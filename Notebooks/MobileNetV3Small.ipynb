{
 "cells": [
  {
   "cell_type": "code",
   "execution_count": 1,
   "id": "f00adb66-c165-4c61-9882-fd361e820a10",
   "metadata": {},
   "outputs": [
    {
     "name": "stderr",
     "output_type": "stream",
     "text": [
      "2024-06-17 18:39:09.472964: E external/local_xla/xla/stream_executor/cuda/cuda_dnn.cc:9261] Unable to register cuDNN factory: Attempting to register factory for plugin cuDNN when one has already been registered\n",
      "2024-06-17 18:39:09.473007: E external/local_xla/xla/stream_executor/cuda/cuda_fft.cc:607] Unable to register cuFFT factory: Attempting to register factory for plugin cuFFT when one has already been registered\n",
      "2024-06-17 18:39:09.473848: E external/local_xla/xla/stream_executor/cuda/cuda_blas.cc:1515] Unable to register cuBLAS factory: Attempting to register factory for plugin cuBLAS when one has already been registered\n",
      "2024-06-17 18:39:09.479349: I tensorflow/core/platform/cpu_feature_guard.cc:182] This TensorFlow binary is optimized to use available CPU instructions in performance-critical operations.\n",
      "To enable the following instructions: AVX2 FMA, in other operations, rebuild TensorFlow with the appropriate compiler flags.\n",
      "2024-06-17 18:39:10.173305: W tensorflow/compiler/tf2tensorrt/utils/py_utils.cc:38] TF-TRT Warning: Could not find TensorRT\n"
     ]
    }
   ],
   "source": [
    "import tensorflow as tf\n",
    "from tensorflow.keras.applications import MobileNetV3Small\n",
    "from tensorflow.keras.models import Sequential\n",
    "from tensorflow.keras.layers import Dense, Dropout, Flatten, Conv2D, MaxPooling2D\n",
    "from tensorflow.keras.preprocessing.image import ImageDataGenerator\n",
    "from tensorflow.keras.metrics import Precision, Recall, FalsePositives, FalseNegatives"
   ]
  },
  {
   "cell_type": "code",
   "execution_count": 2,
   "id": "22f0e644-64d0-4a70-bc76-86c94c6425ba",
   "metadata": {},
   "outputs": [],
   "source": [
    "# Data augmentation parameters\n",
    "data_gen = ImageDataGenerator(\n",
    "    rotation_range=30,\n",
    "    horizontal_flip=True,\n",
    "    vertical_flip=True,\n",
    "    brightness_range=[0.7, 1.3],\n",
    "    zoom_range=[0.7, 0.8],\n",
    "    shear_range=0.2,\n",
    "    fill_mode='nearest'\n",
    ")"
   ]
  },
  {
   "cell_type": "code",
   "execution_count": 3,
   "id": "6d816c48-c466-4d95-ab72-aa2a84f1e9af",
   "metadata": {},
   "outputs": [
    {
     "name": "stderr",
     "output_type": "stream",
     "text": [
      "2024-06-17 18:39:19.799637: I tensorflow/core/common_runtime/gpu/gpu_device.cc:1929] Created device /job:localhost/replica:0/task:0/device:GPU:0 with 20974 MB memory:  -> device: 0, name: NVIDIA L4, pci bus id: 0000:35:00.0, compute capability: 8.9\n"
     ]
    },
    {
     "name": "stdout",
     "output_type": "stream",
     "text": [
      "Downloading data from https://storage.googleapis.com/tensorflow/keras-applications/mobilenet_v3/weights_mobilenet_v3_small_224_1.0_float_no_top_v2.h5\n",
      "4334752/4334752 [==============================] - 0s 0us/step\n"
     ]
    }
   ],
   "source": [
    "# Load the pre-trained MobileNetV3Small model\n",
    "base_model = MobileNetV3Small(weights='imagenet', include_top=False, input_shape=(224, 224, 3))\n"
   ]
  },
  {
   "cell_type": "code",
   "execution_count": 4,
   "id": "d06d9f27-13c4-4554-ae19-ba55a562b814",
   "metadata": {},
   "outputs": [],
   "source": [
    "# Freeze the base model layers\n",
    "for layer in base_model.layers:\n",
    "    layer.trainable = False"
   ]
  },
  {
   "cell_type": "code",
   "execution_count": 8,
   "id": "b3116aa5-677c-40f5-88b8-36a3b2bb9cc7",
   "metadata": {},
   "outputs": [],
   "source": [
    "model = Sequential([\n",
    "    base_model,\n",
    "    Flatten(),\n",
    "    Dense(512, activation='relu'),\n",
    "    Dropout(0.3),\n",
    "    Dense(256, activation='relu'),\n",
    "    Dropout(0.4),\n",
    "    Dense(3, activation='softmax')  # Output layer with 3 classes\n",
    "])"
   ]
  },
  {
   "cell_type": "code",
   "execution_count": 9,
   "id": "65208af6-d156-4d70-8719-c48733f15837",
   "metadata": {},
   "outputs": [],
   "source": [
    "# Compile the model\n",
    "model.compile(optimizer='adam', loss='categorical_crossentropy', metrics=['accuracy', Precision(), Recall()])\n"
   ]
  },
  {
   "cell_type": "code",
   "execution_count": 13,
   "id": "c313e684-9574-4fff-88c0-156cd66ae9be",
   "metadata": {},
   "outputs": [
    {
     "name": "stdout",
     "output_type": "stream",
     "text": [
      "Found 872 images belonging to 3 classes.\n",
      "Found 108 images belonging to 3 classes.\n"
     ]
    }
   ],
   "source": [
    "\n",
    "# Data generators\n",
    "train_generator = data_gen.flow_from_directory('./scaled-mulberry-leaf-dataset/output/train', target_size=(224, 224), batch_size=32)\n",
    "validation_generator = data_gen.flow_from_directory('./scaled-mulberry-leaf-dataset/output/val', target_size=(224, 224), batch_size=32)\n"
   ]
  },
  {
   "cell_type": "code",
   "execution_count": 16,
   "id": "64fe795c-24ec-4940-b778-9a7f946243bd",
   "metadata": {},
   "outputs": [
    {
     "name": "stdout",
     "output_type": "stream",
     "text": [
      "Epoch 1/60\n"
     ]
    },
    {
     "name": "stderr",
     "output_type": "stream",
     "text": [
      "2024-06-17 18:46:35.013718: I external/local_xla/xla/stream_executor/cuda/cuda_dnn.cc:454] Loaded cuDNN version 8902\n",
      "2024-06-17 18:46:36.180060: I external/local_xla/xla/service/service.cc:168] XLA service 0x7fbe54144c80 initialized for platform CUDA (this does not guarantee that XLA will be used). Devices:\n",
      "2024-06-17 18:46:36.180092: I external/local_xla/xla/service/service.cc:176]   StreamExecutor device (0): NVIDIA L4, Compute Capability 8.9\n",
      "2024-06-17 18:46:36.200524: I tensorflow/compiler/mlir/tensorflow/utils/dump_mlir_util.cc:269] disabling MLIR crash reproducer, set env var `MLIR_CRASH_REPRODUCER_DIRECTORY` to enable.\n",
      "WARNING: All log messages before absl::InitializeLog() is called are written to STDERR\n",
      "I0000 00:00:1718649996.349724    4892 device_compiler.h:186] Compiled cluster using XLA!  This line is logged at most once for the lifetime of the process.\n"
     ]
    },
    {
     "name": "stdout",
     "output_type": "stream",
     "text": [
      "28/28 [==============================] - 14s 369ms/step - loss: 2.0886 - accuracy: 0.7179 - precision: 0.7206 - recall: 0.7156 - val_loss: 0.6487 - val_accuracy: 0.8889 - val_precision: 0.8972 - val_recall: 0.8889\n",
      "Epoch 2/60\n",
      "28/28 [==============================] - 10s 352ms/step - loss: 0.6196 - accuracy: 0.8865 - precision: 0.8863 - recall: 0.8853 - val_loss: 0.3448 - val_accuracy: 0.9167 - val_precision: 0.9245 - val_recall: 0.9074\n",
      "Epoch 3/60\n",
      "28/28 [==============================] - 9s 334ms/step - loss: 0.3496 - accuracy: 0.9300 - precision: 0.9322 - recall: 0.9300 - val_loss: 0.2877 - val_accuracy: 0.9074 - val_precision: 0.9074 - val_recall: 0.9074\n",
      "Epoch 4/60\n",
      "28/28 [==============================] - 9s 339ms/step - loss: 0.2506 - accuracy: 0.9381 - precision: 0.9412 - recall: 0.9369 - val_loss: 0.1434 - val_accuracy: 0.9444 - val_precision: 0.9444 - val_recall: 0.9444\n",
      "Epoch 5/60\n",
      "28/28 [==============================] - 10s 343ms/step - loss: 0.2218 - accuracy: 0.9530 - precision: 0.9530 - recall: 0.9530 - val_loss: 0.1391 - val_accuracy: 0.9537 - val_precision: 0.9537 - val_recall: 0.9537\n",
      "Epoch 6/60\n",
      "28/28 [==============================] - 10s 347ms/step - loss: 0.2281 - accuracy: 0.9404 - precision: 0.9412 - recall: 0.9369 - val_loss: 0.1331 - val_accuracy: 0.9630 - val_precision: 0.9630 - val_recall: 0.9630\n",
      "Epoch 7/60\n",
      "28/28 [==============================] - 9s 336ms/step - loss: 0.2322 - accuracy: 0.9392 - precision: 0.9403 - recall: 0.9392 - val_loss: 0.1468 - val_accuracy: 0.9537 - val_precision: 0.9533 - val_recall: 0.9444\n",
      "Epoch 8/60\n",
      "28/28 [==============================] - 10s 351ms/step - loss: 0.2085 - accuracy: 0.9518 - precision: 0.9529 - recall: 0.9518 - val_loss: 0.1612 - val_accuracy: 0.9444 - val_precision: 0.9434 - val_recall: 0.9259\n",
      "Epoch 9/60\n",
      "28/28 [==============================] - 10s 352ms/step - loss: 0.1752 - accuracy: 0.9507 - precision: 0.9507 - recall: 0.9507 - val_loss: 0.0863 - val_accuracy: 0.9630 - val_precision: 0.9630 - val_recall: 0.9630\n",
      "Epoch 10/60\n",
      "28/28 [==============================] - 9s 331ms/step - loss: 0.1268 - accuracy: 0.9667 - precision: 0.9678 - recall: 0.9656 - val_loss: 0.1562 - val_accuracy: 0.9444 - val_precision: 0.9439 - val_recall: 0.9352\n",
      "Epoch 11/60\n",
      "28/28 [==============================] - 9s 333ms/step - loss: 0.1630 - accuracy: 0.9518 - precision: 0.9529 - recall: 0.9507 - val_loss: 0.0755 - val_accuracy: 0.9815 - val_precision: 0.9815 - val_recall: 0.9815\n",
      "Epoch 12/60\n",
      "28/28 [==============================] - 10s 352ms/step - loss: 0.1444 - accuracy: 0.9599 - precision: 0.9599 - recall: 0.9599 - val_loss: 0.2096 - val_accuracy: 0.9352 - val_precision: 0.9352 - val_recall: 0.9352\n",
      "Epoch 13/60\n",
      "28/28 [==============================] - 10s 347ms/step - loss: 0.1986 - accuracy: 0.9610 - precision: 0.9610 - recall: 0.9610 - val_loss: 0.0911 - val_accuracy: 0.9815 - val_precision: 0.9815 - val_recall: 0.9815\n",
      "Epoch 14/60\n",
      "28/28 [==============================] - 10s 343ms/step - loss: 0.1551 - accuracy: 0.9656 - precision: 0.9656 - recall: 0.9656 - val_loss: 0.0833 - val_accuracy: 0.9630 - val_precision: 0.9630 - val_recall: 0.9630\n",
      "Epoch 15/60\n",
      "28/28 [==============================] - 9s 339ms/step - loss: 0.1285 - accuracy: 0.9622 - precision: 0.9621 - recall: 0.9610 - val_loss: 0.3168 - val_accuracy: 0.9444 - val_precision: 0.9444 - val_recall: 0.9444\n",
      "Epoch 16/60\n",
      "28/28 [==============================] - 9s 337ms/step - loss: 0.1594 - accuracy: 0.9622 - precision: 0.9643 - recall: 0.9610 - val_loss: 0.1270 - val_accuracy: 0.9537 - val_precision: 0.9533 - val_recall: 0.9444\n",
      "Epoch 17/60\n",
      "28/28 [==============================] - 10s 349ms/step - loss: 0.0933 - accuracy: 0.9725 - precision: 0.9725 - recall: 0.9725 - val_loss: 0.1180 - val_accuracy: 0.9630 - val_precision: 0.9630 - val_recall: 0.9630\n",
      "Epoch 18/60\n",
      "28/28 [==============================] - 10s 345ms/step - loss: 0.1140 - accuracy: 0.9690 - precision: 0.9690 - recall: 0.9690 - val_loss: 0.0821 - val_accuracy: 0.9537 - val_precision: 0.9537 - val_recall: 0.9537\n",
      "Epoch 19/60\n",
      "28/28 [==============================] - 10s 343ms/step - loss: 0.1668 - accuracy: 0.9679 - precision: 0.9679 - recall: 0.9679 - val_loss: 0.1681 - val_accuracy: 0.9444 - val_precision: 0.9444 - val_recall: 0.9444\n",
      "Epoch 20/60\n",
      "28/28 [==============================] - 10s 344ms/step - loss: 0.1492 - accuracy: 0.9622 - precision: 0.9633 - recall: 0.9622 - val_loss: 0.1040 - val_accuracy: 0.9630 - val_precision: 0.9717 - val_recall: 0.9537\n",
      "Epoch 21/60\n",
      "28/28 [==============================] - 10s 344ms/step - loss: 0.1116 - accuracy: 0.9702 - precision: 0.9713 - recall: 0.9702 - val_loss: 0.0641 - val_accuracy: 0.9630 - val_precision: 0.9630 - val_recall: 0.9630\n",
      "Epoch 22/60\n",
      "28/28 [==============================] - 10s 345ms/step - loss: 0.1083 - accuracy: 0.9748 - precision: 0.9748 - recall: 0.9748 - val_loss: 0.1291 - val_accuracy: 0.9352 - val_precision: 0.9352 - val_recall: 0.9352\n",
      "Epoch 23/60\n",
      "28/28 [==============================] - 10s 342ms/step - loss: 0.0748 - accuracy: 0.9817 - precision: 0.9817 - recall: 0.9817 - val_loss: 0.0123 - val_accuracy: 1.0000 - val_precision: 1.0000 - val_recall: 1.0000\n",
      "Epoch 24/60\n",
      "28/28 [==============================] - 10s 351ms/step - loss: 0.1234 - accuracy: 0.9713 - precision: 0.9713 - recall: 0.9713 - val_loss: 0.0962 - val_accuracy: 0.9815 - val_precision: 0.9815 - val_recall: 0.9815\n",
      "Epoch 25/60\n",
      "28/28 [==============================] - 9s 331ms/step - loss: 0.0828 - accuracy: 0.9771 - precision: 0.9771 - recall: 0.9771 - val_loss: 0.1834 - val_accuracy: 0.9537 - val_precision: 0.9537 - val_recall: 0.9537\n",
      "Epoch 26/60\n",
      "28/28 [==============================] - 10s 341ms/step - loss: 0.0801 - accuracy: 0.9771 - precision: 0.9771 - recall: 0.9771 - val_loss: 0.1177 - val_accuracy: 0.9630 - val_precision: 0.9630 - val_recall: 0.9630\n",
      "Epoch 27/60\n",
      "28/28 [==============================] - 10s 351ms/step - loss: 0.0880 - accuracy: 0.9782 - precision: 0.9782 - recall: 0.9771 - val_loss: 0.0858 - val_accuracy: 0.9537 - val_precision: 0.9717 - val_recall: 0.9537\n",
      "Epoch 28/60\n",
      "28/28 [==============================] - 10s 344ms/step - loss: 0.0338 - accuracy: 0.9874 - precision: 0.9885 - recall: 0.9874 - val_loss: 0.1828 - val_accuracy: 0.9444 - val_precision: 0.9444 - val_recall: 0.9444\n",
      "Epoch 29/60\n",
      "28/28 [==============================] - 10s 343ms/step - loss: 0.0940 - accuracy: 0.9794 - precision: 0.9805 - recall: 0.9794 - val_loss: 0.1317 - val_accuracy: 0.9444 - val_precision: 0.9444 - val_recall: 0.9444\n",
      "Epoch 30/60\n",
      "28/28 [==============================] - 9s 335ms/step - loss: 0.1142 - accuracy: 0.9736 - precision: 0.9747 - recall: 0.9725 - val_loss: 0.0850 - val_accuracy: 0.9630 - val_precision: 0.9630 - val_recall: 0.9630\n",
      "Epoch 31/60\n",
      "28/28 [==============================] - 10s 342ms/step - loss: 0.0837 - accuracy: 0.9839 - precision: 0.9839 - recall: 0.9839 - val_loss: 0.0788 - val_accuracy: 0.9630 - val_precision: 0.9630 - val_recall: 0.9630\n",
      "Epoch 32/60\n",
      "28/28 [==============================] - 10s 342ms/step - loss: 0.0548 - accuracy: 0.9839 - precision: 0.9839 - recall: 0.9828 - val_loss: 0.1271 - val_accuracy: 0.9630 - val_precision: 0.9630 - val_recall: 0.9630\n",
      "Epoch 33/60\n",
      "28/28 [==============================] - 9s 332ms/step - loss: 0.0526 - accuracy: 0.9828 - precision: 0.9839 - recall: 0.9828 - val_loss: 0.1081 - val_accuracy: 0.9630 - val_precision: 0.9720 - val_recall: 0.9630\n",
      "Epoch 34/60\n",
      "28/28 [==============================] - 10s 348ms/step - loss: 0.0617 - accuracy: 0.9874 - precision: 0.9874 - recall: 0.9874 - val_loss: 0.0550 - val_accuracy: 0.9907 - val_precision: 0.9907 - val_recall: 0.9907\n",
      "Epoch 35/60\n",
      "28/28 [==============================] - 10s 347ms/step - loss: 0.0548 - accuracy: 0.9874 - precision: 0.9897 - recall: 0.9874 - val_loss: 0.0927 - val_accuracy: 0.9815 - val_precision: 0.9815 - val_recall: 0.9815\n",
      "Epoch 36/60\n",
      "28/28 [==============================] - 9s 337ms/step - loss: 0.0612 - accuracy: 0.9897 - precision: 0.9897 - recall: 0.9885 - val_loss: 0.1919 - val_accuracy: 0.9352 - val_precision: 0.9346 - val_recall: 0.9259\n",
      "Epoch 37/60\n",
      "28/28 [==============================] - 9s 333ms/step - loss: 0.0555 - accuracy: 0.9897 - precision: 0.9897 - recall: 0.9897 - val_loss: 0.0928 - val_accuracy: 0.9537 - val_precision: 0.9626 - val_recall: 0.9537\n",
      "Epoch 38/60\n",
      "28/28 [==============================] - 10s 344ms/step - loss: 0.0627 - accuracy: 0.9817 - precision: 0.9817 - recall: 0.9817 - val_loss: 0.1059 - val_accuracy: 0.9722 - val_precision: 0.9722 - val_recall: 0.9722\n",
      "Epoch 39/60\n",
      "28/28 [==============================] - 9s 338ms/step - loss: 0.0354 - accuracy: 0.9885 - precision: 0.9885 - recall: 0.9885 - val_loss: 0.1543 - val_accuracy: 0.9630 - val_precision: 0.9630 - val_recall: 0.9630\n",
      "Epoch 40/60\n",
      "28/28 [==============================] - 10s 345ms/step - loss: 0.0726 - accuracy: 0.9782 - precision: 0.9782 - recall: 0.9782 - val_loss: 0.1204 - val_accuracy: 0.9815 - val_precision: 0.9815 - val_recall: 0.9815\n",
      "Epoch 41/60\n",
      "28/28 [==============================] - 10s 350ms/step - loss: 0.0705 - accuracy: 0.9817 - precision: 0.9817 - recall: 0.9817 - val_loss: 0.0549 - val_accuracy: 0.9815 - val_precision: 0.9815 - val_recall: 0.9815\n",
      "Epoch 42/60\n",
      "28/28 [==============================] - 9s 346ms/step - loss: 0.0386 - accuracy: 0.9874 - precision: 0.9874 - recall: 0.9874 - val_loss: 0.1496 - val_accuracy: 0.9444 - val_precision: 0.9444 - val_recall: 0.9444\n",
      "Epoch 43/60\n",
      "28/28 [==============================] - 10s 341ms/step - loss: 0.0551 - accuracy: 0.9874 - precision: 0.9874 - recall: 0.9862 - val_loss: 0.0613 - val_accuracy: 0.9907 - val_precision: 0.9907 - val_recall: 0.9907\n",
      "Epoch 44/60\n",
      "28/28 [==============================] - 9s 334ms/step - loss: 0.0831 - accuracy: 0.9817 - precision: 0.9817 - recall: 0.9817 - val_loss: 0.1723 - val_accuracy: 0.9630 - val_precision: 0.9630 - val_recall: 0.9630\n",
      "Epoch 45/60\n",
      "28/28 [==============================] - 10s 346ms/step - loss: 0.0920 - accuracy: 0.9805 - precision: 0.9816 - recall: 0.9805 - val_loss: 0.0465 - val_accuracy: 0.9815 - val_precision: 0.9813 - val_recall: 0.9722\n",
      "Epoch 46/60\n",
      "28/28 [==============================] - 9s 337ms/step - loss: 0.0171 - accuracy: 0.9908 - precision: 0.9908 - recall: 0.9908 - val_loss: 0.0985 - val_accuracy: 0.9630 - val_precision: 0.9630 - val_recall: 0.9630\n",
      "Epoch 47/60\n",
      "28/28 [==============================] - 10s 342ms/step - loss: 0.0489 - accuracy: 0.9839 - precision: 0.9851 - recall: 0.9828 - val_loss: 0.1607 - val_accuracy: 0.9537 - val_precision: 0.9537 - val_recall: 0.9537\n",
      "Epoch 48/60\n",
      "28/28 [==============================] - 9s 332ms/step - loss: 0.0285 - accuracy: 0.9885 - precision: 0.9897 - recall: 0.9885 - val_loss: 0.1164 - val_accuracy: 0.9444 - val_precision: 0.9444 - val_recall: 0.9444\n",
      "Epoch 49/60\n",
      "28/28 [==============================] - 10s 340ms/step - loss: 0.0330 - accuracy: 0.9920 - precision: 0.9920 - recall: 0.9920 - val_loss: 0.1442 - val_accuracy: 0.9630 - val_precision: 0.9630 - val_recall: 0.9630\n",
      "Epoch 50/60\n",
      "28/28 [==============================] - 9s 337ms/step - loss: 0.0514 - accuracy: 0.9839 - precision: 0.9839 - recall: 0.9828 - val_loss: 0.0402 - val_accuracy: 0.9815 - val_precision: 0.9815 - val_recall: 0.9815\n",
      "Epoch 51/60\n",
      "28/28 [==============================] - 10s 342ms/step - loss: 0.0291 - accuracy: 0.9897 - precision: 0.9897 - recall: 0.9897 - val_loss: 0.1413 - val_accuracy: 0.9630 - val_precision: 0.9720 - val_recall: 0.9630\n",
      "Epoch 52/60\n",
      "28/28 [==============================] - 10s 352ms/step - loss: 0.0448 - accuracy: 0.9920 - precision: 0.9920 - recall: 0.9908 - val_loss: 0.1327 - val_accuracy: 0.9907 - val_precision: 0.9907 - val_recall: 0.9907\n",
      "Epoch 53/60\n",
      "28/28 [==============================] - 9s 336ms/step - loss: 0.0353 - accuracy: 0.9897 - precision: 0.9897 - recall: 0.9897 - val_loss: 0.0467 - val_accuracy: 0.9722 - val_precision: 0.9722 - val_recall: 0.9722\n",
      "Epoch 54/60\n",
      "28/28 [==============================] - 9s 333ms/step - loss: 0.0849 - accuracy: 0.9805 - precision: 0.9805 - recall: 0.9805 - val_loss: 0.1398 - val_accuracy: 0.9444 - val_precision: 0.9444 - val_recall: 0.9444\n",
      "Epoch 55/60\n",
      "28/28 [==============================] - 10s 348ms/step - loss: 0.0585 - accuracy: 0.9828 - precision: 0.9828 - recall: 0.9828 - val_loss: 0.1577 - val_accuracy: 0.9630 - val_precision: 0.9630 - val_recall: 0.9630\n",
      "Epoch 56/60\n",
      "28/28 [==============================] - 9s 337ms/step - loss: 0.0452 - accuracy: 0.9885 - precision: 0.9885 - recall: 0.9885 - val_loss: 0.1293 - val_accuracy: 0.9722 - val_precision: 0.9722 - val_recall: 0.9722\n",
      "Epoch 57/60\n",
      "28/28 [==============================] - 10s 343ms/step - loss: 0.0259 - accuracy: 0.9897 - precision: 0.9920 - recall: 0.9897 - val_loss: 0.0792 - val_accuracy: 0.9815 - val_precision: 0.9815 - val_recall: 0.9815\n",
      "Epoch 58/60\n",
      "28/28 [==============================] - 10s 358ms/step - loss: 0.0743 - accuracy: 0.9839 - precision: 0.9839 - recall: 0.9839 - val_loss: 0.2536 - val_accuracy: 0.9444 - val_precision: 0.9444 - val_recall: 0.9444\n",
      "Epoch 59/60\n",
      "28/28 [==============================] - 9s 339ms/step - loss: 0.0617 - accuracy: 0.9828 - precision: 0.9828 - recall: 0.9828 - val_loss: 0.0578 - val_accuracy: 0.9630 - val_precision: 0.9630 - val_recall: 0.9630\n",
      "Epoch 60/60\n",
      "28/28 [==============================] - 9s 332ms/step - loss: 0.0182 - accuracy: 0.9954 - precision: 0.9954 - recall: 0.9954 - val_loss: 0.0774 - val_accuracy: 0.9722 - val_precision: 0.9722 - val_recall: 0.9722\n"
     ]
    },
    {
     "data": {
      "text/plain": [
       "<keras.src.callbacks.History at 0x7fbedc11f070>"
      ]
     },
     "execution_count": 16,
     "metadata": {},
     "output_type": "execute_result"
    }
   ],
   "source": [
    "# Train the model\n",
    "model.fit(\n",
    "    train_generator,\n",
    "    steps_per_epoch=len(train_generator),\n",
    "    epochs=60,\n",
    "    validation_data=validation_generator,\n",
    "    validation_steps=len(validation_generator)\n",
    ")\n"
   ]
  },
  {
   "cell_type": "code",
   "execution_count": 23,
   "id": "b8034ee6-1109-458d-9fb2-65ca406ee214",
   "metadata": {},
   "outputs": [
    {
     "name": "stdout",
     "output_type": "stream",
     "text": [
      "Found 111 images belonging to 3 classes.\n",
      "4/4 [==============================] - 0s 119ms/step - loss: 0.2364 - accuracy: 0.9550 - precision: 0.9550 - recall: 0.9550\n"
     ]
    }
   ],
   "source": [
    "# Evaluate the model on the test dataset\n",
    "test_generator = ImageDataGenerator().flow_from_directory('./scaled-mulberry-leaf-dataset/output/test', target_size=(224, 224), batch_size=32)\n",
    "test_loss, test_accuracy, test_precision, test_recall = model.evaluate(test_generator)\n",
    "\n",
    "# Calculate F1 score\n",
    "true_positives = test_recall * (test_recall + test_precision)\n",
    "f1_score = 2 * true_positives / (2 * true_positives + test_precision + test_recall)"
   ]
  },
  {
   "cell_type": "code",
   "execution_count": 24,
   "id": "cb7745cc-2f97-43d8-b5c8-8a7587301895",
   "metadata": {},
   "outputs": [
    {
     "name": "stdout",
     "output_type": "stream",
     "text": [
      "4/4 [==============================] - 0s 96ms/step - loss: 0.2364 - accuracy: 0.9550 - precision: 0.9550 - recall: 0.9550\n"
     ]
    },
    {
     "data": {
      "text/plain": [
       "[0.23644772171974182, 0.954954981803894, 0.954954981803894, 0.954954981803894]"
      ]
     },
     "execution_count": 24,
     "metadata": {},
     "output_type": "execute_result"
    }
   ],
   "source": [
    "model.evaluate(test_generator)"
   ]
  },
  {
   "cell_type": "code",
   "execution_count": 25,
   "id": "153edff7-5430-4865-af0b-7926f4901ceb",
   "metadata": {},
   "outputs": [],
   "source": [
    "import tensorflow as tf\n",
    "from tensorflow.keras.applications import MobileNetV3Small\n",
    "from tensorflow.keras.models import Sequential\n",
    "from tensorflow.keras.layers import Dense, Dropout, Flatten, Conv2D, MaxPooling2D\n",
    "from tensorflow.keras.preprocessing.image import ImageDataGenerator\n",
    "from tensorflow.keras.metrics import Precision, Recall, FalsePositives, FalseNegatives\n",
    "import matplotlib.pyplot as plt\n",
    "import numpy as np\n",
    "from sklearn.metrics import confusion_matrix"
   ]
  },
  {
   "cell_type": "code",
   "execution_count": 26,
   "id": "c102cdc6-1a93-48bf-a7e4-8f57818824a3",
   "metadata": {},
   "outputs": [
    {
     "name": "stdout",
     "output_type": "stream",
     "text": [
      "Test Loss: 0.23644781112670898\n",
      "Test Accuracy: 0.954954981803894\n",
      "Test Precision: 0.954954981803894\n",
      "Test Recall: 0.954954981803894\n",
      "Test F1 Score: 0.6563467555675943\n",
      "4/4 [==============================] - 1s 86ms/step\n"
     ]
    },
    {
     "data": {
      "image/png": "[encoded data removed]",
      "text/plain": [
       "<Figure size 800x600 with 2 Axes>"
      ]
     },
     "metadata": {},
     "output_type": "display_data"
    }
   ],
   "source": [
    "# Calculate F1 score\n",
    "true_positives = test_recall * (test_recall + test_precision)\n",
    "f1_score = 2 * true_positives / (2 * true_positives + test_precision + test_recall)\n",
    "\n",
    "print(f\"Test Loss: {test_loss}\")\n",
    "print(f\"Test Accuracy: {test_accuracy}\")\n",
    "print(f\"Test Precision: {test_precision}\")\n",
    "print(f\"Test Recall: {test_recall}\")\n",
    "print(f\"Test F1 Score: {f1_score}\")\n",
    "\n",
    "# Compute and plot the confusion matrix\n",
    "y_true = test_generator.classes\n",
    "y_pred = np.argmax(model.predict(test_generator), axis=1)\n",
    "cm = confusion_matrix(y_true, y_pred)\n",
    "\n",
    "plt.figure(figsize=(8, 6))\n",
    "plt.imshow(cm, cmap=plt.cm.Blues)\n",
    "plt.colorbar()\n",
    "plt.xticks(np.arange(len(test_generator.class_indices)), list(test_generator.class_indices.keys()), rotation=45)\n",
    "plt.yticks(np.arange(len(test_generator.class_indices)), list(test_generator.class_indices.keys()))\n",
    "plt.xlabel('Predicted Label')\n",
    "plt.ylabel('True Label')\n",
    "plt.title('Confusion Matrix')\n",
    "plt.show()"
   ]
  },
  {
   "cell_type": "code",
   "execution_count": 27,
   "id": "fe247cc4-7aae-4043-962f-776bce113161",
   "metadata": {},
   "outputs": [
    {
     "ename": "NameError",
     "evalue": "name 'precision_scores' is not defined",
     "output_type": "error",
     "traceback": [
      "\u001b[0;31m---------------------------------------------------------------------------\u001b[0m",
      "\u001b[0;31mNameError\u001b[0m                                 Traceback (most recent call last)",
      "Cell \u001b[0;32mIn[27], line 2\u001b[0m\n\u001b[1;32m      1\u001b[0m \u001b[38;5;66;03m# Calculate the average and standard deviation\u001b[39;00m\n\u001b[0;32m----> 2\u001b[0m avg_precision \u001b[38;5;241m=\u001b[39m np\u001b[38;5;241m.\u001b[39mmean(\u001b[43mprecision_scores\u001b[49m)\n\u001b[1;32m      3\u001b[0m avg_recall \u001b[38;5;241m=\u001b[39m np\u001b[38;5;241m.\u001b[39mmean(recall_scores)\n\u001b[1;32m      4\u001b[0m avg_f1 \u001b[38;5;241m=\u001b[39m np\u001b[38;5;241m.\u001b[39mmean(f1_scores)\n",
      "\u001b[0;31mNameError\u001b[0m: name 'precision_scores' is not defined"
     ]
    }
   ],
   "source": [
    "# Calculate the average and standard deviation\n",
    "avg_precision = np.mean(precision_scores)\n",
    "avg_recall = np.mean(recall_scores)\n",
    "avg_f1 = np.mean(f1_scores)\n",
    "\n",
    "std_precision = np.std(precision_scores)\n",
    "std_recall = np.std(recall_scores)\n",
    "std_f1 = np.std(f1_scores)"
   ]
  },
  {
   "cell_type": "code",
   "execution_count": null,
   "id": "76582c45-c92a-4b24-89ef-26f8c2d04d5a",
   "metadata": {},
   "outputs": [],
   "source": []
  }
 ],
 "metadata": {
  "kernelspec": {
   "display_name": "Python 3",
   "language": "python",
   "name": "python3"
  },
  "language_info": {
   "codemirror_mode": {
    "name": "ipython",
    "version": 3
   },
   "file_extension": ".py",
   "mimetype": "text/x-python",
   "name": "python",
   "nbconvert_exporter": "python",
   "pygments_lexer": "ipython3",
   "version": "3.10.10"
  }
 },
 "nbformat": 4,
 "nbformat_minor": 5
}
