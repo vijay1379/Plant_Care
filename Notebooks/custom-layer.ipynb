{
 "cells": [
  {
   "cell_type": "code",
   "execution_count": 1,
   "id": "db9f435a",
   "metadata": {
    "_cell_guid": "b1076dfc-b9ad-4769-8c92-a6c4dae69d19",
    "_uuid": "8f2839f25d086af736a60e9eeb907d3b93b6e0e5",
    "execution": {
     "iopub.execute_input": "2024-06-25T17:20:25.190463Z",
     "iopub.status.busy": "2024-06-25T17:20:25.190190Z",
     "iopub.status.idle": "2024-06-25T17:20:46.918494Z",
     "shell.execute_reply": "2024-06-25T17:20:46.917749Z"
    },
    "papermill": {
     "duration": 21.738716,
     "end_time": "2024-06-25T17:20:46.920729",
     "exception": false,
     "start_time": "2024-06-25T17:20:25.182013",
     "status": "completed"
    },
    "tags": []
   },
   "outputs": [
    {
     "name": "stderr",
     "output_type": "stream",
     "text": [
      "2024-06-25 17:20:28.694203: E external/local_xla/xla/stream_executor/cuda/cuda_dnn.cc:9261] Unable to register cuDNN factory: Attempting to register factory for plugin cuDNN when one has already been registered\n",
      "2024-06-25 17:20:28.694342: E external/local_xla/xla/stream_executor/cuda/cuda_fft.cc:607] Unable to register cuFFT factory: Attempting to register factory for plugin cuFFT when one has already been registered\n",
      "2024-06-25 17:20:28.953960: E external/local_xla/xla/stream_executor/cuda/cuda_blas.cc:1515] Unable to register cuBLAS factory: Attempting to register factory for plugin cuBLAS when one has already been registered\n"
     ]
    }
   ],
   "source": [
    "import tensorflow as tf\n",
    "from tensorflow.keras.models import Sequential\n",
    "from tensorflow.keras.layers import Conv2D, MaxPooling2D, Flatten, Dense, Dropout\n",
    "from tensorflow.keras.preprocessing.image import ImageDataGenerator\n",
    "from tensorflow.keras.metrics import Precision, Recall\n",
    "import numpy as np\n",
    "import matplotlib.pyplot as plt\n",
    "import seaborn as sns\n",
    "from sklearn.metrics import confusion_matrix, classification_report, f1_score, precision_score, recall_score"
   ]
  },
  {
   "cell_type": "code",
   "execution_count": 2,
   "id": "b2400168",
   "metadata": {
    "execution": {
     "iopub.execute_input": "2024-06-25T17:20:46.932117Z",
     "iopub.status.busy": "2024-06-25T17:20:46.931601Z",
     "iopub.status.idle": "2024-06-25T17:20:46.936594Z",
     "shell.execute_reply": "2024-06-25T17:20:46.935779Z"
    },
    "papermill": {
     "duration": 0.012526,
     "end_time": "2024-06-25T17:20:46.938449",
     "exception": false,
     "start_time": "2024-06-25T17:20:46.925923",
     "status": "completed"
    },
    "tags": []
   },
   "outputs": [],
   "source": [
    "# Data augmentation parameters\n",
    "data_gen = ImageDataGenerator(\n",
    "    rotation_range=30,\n",
    "    horizontal_flip=True,\n",
    "    vertical_flip=True,\n",
    "    shear_range=0.3,\n",
    "    fill_mode='nearest',\n",
    "    rescale=1./255  # Normalize pixel values\n",
    ")"
   ]
  },
  {
   "cell_type": "code",
   "execution_count": 3,
   "id": "a9db4d94",
   "metadata": {
    "execution": {
     "iopub.execute_input": "2024-06-25T17:20:46.948862Z",
     "iopub.status.busy": "2024-06-25T17:20:46.948575Z",
     "iopub.status.idle": "2024-06-25T17:21:13.303966Z",
     "shell.execute_reply": "2024-06-25T17:21:13.303074Z"
    },
    "papermill": {
     "duration": 26.362775,
     "end_time": "2024-06-25T17:21:13.305878",
     "exception": false,
     "start_time": "2024-06-25T17:20:46.943103",
     "status": "completed"
    },
    "tags": []
   },
   "outputs": [
    {
     "name": "stderr",
     "output_type": "stream",
     "text": [
      "/opt/conda/lib/python3.10/pty.py:89: RuntimeWarning: os.fork() was called. os.fork() is incompatible with multithreaded code, and JAX is multithreaded, so this will likely lead to a deadlock.\n",
      "  pid, fd = os.forkpty()\n"
     ]
    },
    {
     "name": "stdout",
     "output_type": "stream",
     "text": [
      "Collecting split-folders\r\n",
      "  Downloading split_folders-0.5.1-py3-none-any.whl.metadata (6.2 kB)\r\n",
      "Downloading split_folders-0.5.1-py3-none-any.whl (8.4 kB)\r\n",
      "Installing collected packages: split-folders\r\n",
      "Successfully installed split-folders-0.5.1\r\n",
      "Copying files: 1091 files [00:09, 110.29 files/s]\r\n"
     ]
    }
   ],
   "source": [
    "!pip install split-folders\n",
    "\n",
    "!splitfolders --ratio 0.8 0.1 0.1 -- /kaggle/input/scaled-mulberry-leaf-dataset/Smaller"
   ]
  },
  {
   "cell_type": "code",
   "execution_count": 4,
   "id": "3ad31656",
   "metadata": {
    "execution": {
     "iopub.execute_input": "2024-06-25T17:21:13.331356Z",
     "iopub.status.busy": "2024-06-25T17:21:13.330622Z",
     "iopub.status.idle": "2024-06-25T17:21:14.525216Z",
     "shell.execute_reply": "2024-06-25T17:21:14.523950Z"
    },
    "papermill": {
     "duration": 1.209657,
     "end_time": "2024-06-25T17:21:14.527514",
     "exception": false,
     "start_time": "2024-06-25T17:21:13.317857",
     "status": "completed"
    },
    "tags": []
   },
   "outputs": [
    {
     "name": "stderr",
     "output_type": "stream",
     "text": [
      "/opt/conda/lib/python3.10/site-packages/keras/src/layers/convolutional/base_conv.py:107: UserWarning: Do not pass an `input_shape`/`input_dim` argument to a layer. When using Sequential models, prefer using an `Input(shape)` object as the first layer in the model instead.\n",
      "  super().__init__(activity_regularizer=activity_regularizer, **kwargs)\n"
     ]
    }
   ],
   "source": [
    "# Define the model\n",
    "model = Sequential([\n",
    "    # First Convolutional Layer\n",
    "    Conv2D(32, (3, 3), activation='relu', input_shape=(224, 224, 3)),\n",
    "    MaxPooling2D(2, 2),    \n",
    "    # Second Convolutional Layer\n",
    "    Conv2D(64, (3, 3), activation='relu'),\n",
    "    MaxPooling2D(2, 2),    \n",
    "    Conv2D(128, (3, 3), activation='relu'),\n",
    "    MaxPooling2D(2, 2),\n",
    "    # Flatten layer\n",
    "    Flatten(),\n",
    "    # Dense layers\n",
    "    Dense(128, activation='relu'),\n",
    "    Dropout(0.5),\n",
    "    Dense(3, activation='softmax')  # Output layer with 3 classes\n",
    "])\n",
    "\n"
   ]
  },
  {
   "cell_type": "code",
   "execution_count": 5,
   "id": "c180f642",
   "metadata": {
    "execution": {
     "iopub.execute_input": "2024-06-25T17:21:14.553155Z",
     "iopub.status.busy": "2024-06-25T17:21:14.552617Z",
     "iopub.status.idle": "2024-06-25T17:21:14.592119Z",
     "shell.execute_reply": "2024-06-25T17:21:14.591300Z"
    },
    "papermill": {
     "duration": 0.05409,
     "end_time": "2024-06-25T17:21:14.593975",
     "exception": false,
     "start_time": "2024-06-25T17:21:14.539885",
     "status": "completed"
    },
    "tags": []
   },
   "outputs": [
    {
     "data": {
      "text/html": [
       "<pre style=\"white-space:pre;overflow-x:auto;line-height:normal;font-family:Menlo,'DejaVu Sans Mono',consolas,'Courier New',monospace\"><span style=\"font-weight: bold\">Model: \"sequential\"</span>\n",
       "</pre>\n"
      ],
      "text/plain": [
       "\u001b[1mModel: \"sequential\"\u001b[0m\n"
      ]
     },
     "metadata": {},
     "output_type": "display_data"
    },
    {
     "data": {
      "text/html": [
       "<pre style=\"white-space:pre;overflow-x:auto;line-height:normal;font-family:Menlo,'DejaVu Sans Mono',consolas,'Courier New',monospace\">┏━━━━━━━━━━━━━━━━━━━━━━━━━━━━━━━━━┳━━━━━━━━━━━━━━━━━━━━━━━━┳━━━━━━━━━━━━━━━┓\n",
       "┃<span style=\"font-weight: bold\"> Layer (type)                    </span>┃<span style=\"font-weight: bold\"> Output Shape           </span>┃<span style=\"font-weight: bold\">       Param # </span>┃\n",
       "┡━━━━━━━━━━━━━━━━━━━━━━━━━━━━━━━━━╇━━━━━━━━━━━━━━━━━━━━━━━━╇━━━━━━━━━━━━━━━┩\n",
       "│ conv2d (<span style=\"color: #0087ff; text-decoration-color: #0087ff\">Conv2D</span>)                 │ (<span style=\"color: #00d7ff; text-decoration-color: #00d7ff\">None</span>, <span style=\"color: #00af00; text-decoration-color: #00af00\">222</span>, <span style=\"color: #00af00; text-decoration-color: #00af00\">222</span>, <span style=\"color: #00af00; text-decoration-color: #00af00\">32</span>)   │           <span style=\"color: #00af00; text-decoration-color: #00af00\">896</span> │\n",
       "├─────────────────────────────────┼────────────────────────┼───────────────┤\n",
       "│ max_pooling2d (<span style=\"color: #0087ff; text-decoration-color: #0087ff\">MaxPooling2D</span>)    │ (<span style=\"color: #00d7ff; text-decoration-color: #00d7ff\">None</span>, <span style=\"color: #00af00; text-decoration-color: #00af00\">111</span>, <span style=\"color: #00af00; text-decoration-color: #00af00\">111</span>, <span style=\"color: #00af00; text-decoration-color: #00af00\">32</span>)   │             <span style=\"color: #00af00; text-decoration-color: #00af00\">0</span> │\n",
       "├─────────────────────────────────┼────────────────────────┼───────────────┤\n",
       "│ conv2d_1 (<span style=\"color: #0087ff; text-decoration-color: #0087ff\">Conv2D</span>)               │ (<span style=\"color: #00d7ff; text-decoration-color: #00d7ff\">None</span>, <span style=\"color: #00af00; text-decoration-color: #00af00\">109</span>, <span style=\"color: #00af00; text-decoration-color: #00af00\">109</span>, <span style=\"color: #00af00; text-decoration-color: #00af00\">64</span>)   │        <span style=\"color: #00af00; text-decoration-color: #00af00\">18,496</span> │\n",
       "├─────────────────────────────────┼────────────────────────┼───────────────┤\n",
       "│ max_pooling2d_1 (<span style=\"color: #0087ff; text-decoration-color: #0087ff\">MaxPooling2D</span>)  │ (<span style=\"color: #00d7ff; text-decoration-color: #00d7ff\">None</span>, <span style=\"color: #00af00; text-decoration-color: #00af00\">54</span>, <span style=\"color: #00af00; text-decoration-color: #00af00\">54</span>, <span style=\"color: #00af00; text-decoration-color: #00af00\">64</span>)     │             <span style=\"color: #00af00; text-decoration-color: #00af00\">0</span> │\n",
       "├─────────────────────────────────┼────────────────────────┼───────────────┤\n",
       "│ conv2d_2 (<span style=\"color: #0087ff; text-decoration-color: #0087ff\">Conv2D</span>)               │ (<span style=\"color: #00d7ff; text-decoration-color: #00d7ff\">None</span>, <span style=\"color: #00af00; text-decoration-color: #00af00\">52</span>, <span style=\"color: #00af00; text-decoration-color: #00af00\">52</span>, <span style=\"color: #00af00; text-decoration-color: #00af00\">128</span>)    │        <span style=\"color: #00af00; text-decoration-color: #00af00\">73,856</span> │\n",
       "├─────────────────────────────────┼────────────────────────┼───────────────┤\n",
       "│ max_pooling2d_2 (<span style=\"color: #0087ff; text-decoration-color: #0087ff\">MaxPooling2D</span>)  │ (<span style=\"color: #00d7ff; text-decoration-color: #00d7ff\">None</span>, <span style=\"color: #00af00; text-decoration-color: #00af00\">26</span>, <span style=\"color: #00af00; text-decoration-color: #00af00\">26</span>, <span style=\"color: #00af00; text-decoration-color: #00af00\">128</span>)    │             <span style=\"color: #00af00; text-decoration-color: #00af00\">0</span> │\n",
       "├─────────────────────────────────┼────────────────────────┼───────────────┤\n",
       "│ flatten (<span style=\"color: #0087ff; text-decoration-color: #0087ff\">Flatten</span>)               │ (<span style=\"color: #00d7ff; text-decoration-color: #00d7ff\">None</span>, <span style=\"color: #00af00; text-decoration-color: #00af00\">86528</span>)          │             <span style=\"color: #00af00; text-decoration-color: #00af00\">0</span> │\n",
       "├─────────────────────────────────┼────────────────────────┼───────────────┤\n",
       "│ dense (<span style=\"color: #0087ff; text-decoration-color: #0087ff\">Dense</span>)                   │ (<span style=\"color: #00d7ff; text-decoration-color: #00d7ff\">None</span>, <span style=\"color: #00af00; text-decoration-color: #00af00\">128</span>)            │    <span style=\"color: #00af00; text-decoration-color: #00af00\">11,075,712</span> │\n",
       "├─────────────────────────────────┼────────────────────────┼───────────────┤\n",
       "│ dropout (<span style=\"color: #0087ff; text-decoration-color: #0087ff\">Dropout</span>)               │ (<span style=\"color: #00d7ff; text-decoration-color: #00d7ff\">None</span>, <span style=\"color: #00af00; text-decoration-color: #00af00\">128</span>)            │             <span style=\"color: #00af00; text-decoration-color: #00af00\">0</span> │\n",
       "├─────────────────────────────────┼────────────────────────┼───────────────┤\n",
       "│ dense_1 (<span style=\"color: #0087ff; text-decoration-color: #0087ff\">Dense</span>)                 │ (<span style=\"color: #00d7ff; text-decoration-color: #00d7ff\">None</span>, <span style=\"color: #00af00; text-decoration-color: #00af00\">3</span>)              │           <span style=\"color: #00af00; text-decoration-color: #00af00\">387</span> │\n",
       "└─────────────────────────────────┴────────────────────────┴───────────────┘\n",
       "</pre>\n"
      ],
      "text/plain": [
       "┏━━━━━━━━━━━━━━━━━━━━━━━━━━━━━━━━━┳━━━━━━━━━━━━━━━━━━━━━━━━┳━━━━━━━━━━━━━━━┓\n",
       "┃\u001b[1m \u001b[0m\u001b[1mLayer (type)                   \u001b[0m\u001b[1m \u001b[0m┃\u001b[1m \u001b[0m\u001b[1mOutput Shape          \u001b[0m\u001b[1m \u001b[0m┃\u001b[1m \u001b[0m\u001b[1m      Param #\u001b[0m\u001b[1m \u001b[0m┃\n",
       "┡━━━━━━━━━━━━━━━━━━━━━━━━━━━━━━━━━╇━━━━━━━━━━━━━━━━━━━━━━━━╇━━━━━━━━━━━━━━━┩\n",
       "│ conv2d (\u001b[38;5;33mConv2D\u001b[0m)                 │ (\u001b[38;5;45mNone\u001b[0m, \u001b[38;5;34m222\u001b[0m, \u001b[38;5;34m222\u001b[0m, \u001b[38;5;34m32\u001b[0m)   │           \u001b[38;5;34m896\u001b[0m │\n",
       "├─────────────────────────────────┼────────────────────────┼───────────────┤\n",
       "│ max_pooling2d (\u001b[38;5;33mMaxPooling2D\u001b[0m)    │ (\u001b[38;5;45mNone\u001b[0m, \u001b[38;5;34m111\u001b[0m, \u001b[38;5;34m111\u001b[0m, \u001b[38;5;34m32\u001b[0m)   │             \u001b[38;5;34m0\u001b[0m │\n",
       "├─────────────────────────────────┼────────────────────────┼───────────────┤\n",
       "│ conv2d_1 (\u001b[38;5;33mConv2D\u001b[0m)               │ (\u001b[38;5;45mNone\u001b[0m, \u001b[38;5;34m109\u001b[0m, \u001b[38;5;34m109\u001b[0m, \u001b[38;5;34m64\u001b[0m)   │        \u001b[38;5;34m18,496\u001b[0m │\n",
       "├─────────────────────────────────┼────────────────────────┼───────────────┤\n",
       "│ max_pooling2d_1 (\u001b[38;5;33mMaxPooling2D\u001b[0m)  │ (\u001b[38;5;45mNone\u001b[0m, \u001b[38;5;34m54\u001b[0m, \u001b[38;5;34m54\u001b[0m, \u001b[38;5;34m64\u001b[0m)     │             \u001b[38;5;34m0\u001b[0m │\n",
       "├─────────────────────────────────┼────────────────────────┼───────────────┤\n",
       "│ conv2d_2 (\u001b[38;5;33mConv2D\u001b[0m)               │ (\u001b[38;5;45mNone\u001b[0m, \u001b[38;5;34m52\u001b[0m, \u001b[38;5;34m52\u001b[0m, \u001b[38;5;34m128\u001b[0m)    │        \u001b[38;5;34m73,856\u001b[0m │\n",
       "├─────────────────────────────────┼────────────────────────┼───────────────┤\n",
       "│ max_pooling2d_2 (\u001b[38;5;33mMaxPooling2D\u001b[0m)  │ (\u001b[38;5;45mNone\u001b[0m, \u001b[38;5;34m26\u001b[0m, \u001b[38;5;34m26\u001b[0m, \u001b[38;5;34m128\u001b[0m)    │             \u001b[38;5;34m0\u001b[0m │\n",
       "├─────────────────────────────────┼────────────────────────┼───────────────┤\n",
       "│ flatten (\u001b[38;5;33mFlatten\u001b[0m)               │ (\u001b[38;5;45mNone\u001b[0m, \u001b[38;5;34m86528\u001b[0m)          │             \u001b[38;5;34m0\u001b[0m │\n",
       "├─────────────────────────────────┼────────────────────────┼───────────────┤\n",
       "│ dense (\u001b[38;5;33mDense\u001b[0m)                   │ (\u001b[38;5;45mNone\u001b[0m, \u001b[38;5;34m128\u001b[0m)            │    \u001b[38;5;34m11,075,712\u001b[0m │\n",
       "├─────────────────────────────────┼────────────────────────┼───────────────┤\n",
       "│ dropout (\u001b[38;5;33mDropout\u001b[0m)               │ (\u001b[38;5;45mNone\u001b[0m, \u001b[38;5;34m128\u001b[0m)            │             \u001b[38;5;34m0\u001b[0m │\n",
       "├─────────────────────────────────┼────────────────────────┼───────────────┤\n",
       "│ dense_1 (\u001b[38;5;33mDense\u001b[0m)                 │ (\u001b[38;5;45mNone\u001b[0m, \u001b[38;5;34m3\u001b[0m)              │           \u001b[38;5;34m387\u001b[0m │\n",
       "└─────────────────────────────────┴────────────────────────┴───────────────┘\n"
      ]
     },
     "metadata": {},
     "output_type": "display_data"
    },
    {
     "data": {
      "text/html": [
       "<pre style=\"white-space:pre;overflow-x:auto;line-height:normal;font-family:Menlo,'DejaVu Sans Mono',consolas,'Courier New',monospace\"><span style=\"font-weight: bold\"> Total params: </span><span style=\"color: #00af00; text-decoration-color: #00af00\">11,169,347</span> (42.61 MB)\n",
       "</pre>\n"
      ],
      "text/plain": [
       "\u001b[1m Total params: \u001b[0m\u001b[38;5;34m11,169,347\u001b[0m (42.61 MB)\n"
      ]
     },
     "metadata": {},
     "output_type": "display_data"
    },
    {
     "data": {
      "text/html": [
       "<pre style=\"white-space:pre;overflow-x:auto;line-height:normal;font-family:Menlo,'DejaVu Sans Mono',consolas,'Courier New',monospace\"><span style=\"font-weight: bold\"> Trainable params: </span><span style=\"color: #00af00; text-decoration-color: #00af00\">11,169,347</span> (42.61 MB)\n",
       "</pre>\n"
      ],
      "text/plain": [
       "\u001b[1m Trainable params: \u001b[0m\u001b[38;5;34m11,169,347\u001b[0m (42.61 MB)\n"
      ]
     },
     "metadata": {},
     "output_type": "display_data"
    },
    {
     "data": {
      "text/html": [
       "<pre style=\"white-space:pre;overflow-x:auto;line-height:normal;font-family:Menlo,'DejaVu Sans Mono',consolas,'Courier New',monospace\"><span style=\"font-weight: bold\"> Non-trainable params: </span><span style=\"color: #00af00; text-decoration-color: #00af00\">0</span> (0.00 B)\n",
       "</pre>\n"
      ],
      "text/plain": [
       "\u001b[1m Non-trainable params: \u001b[0m\u001b[38;5;34m0\u001b[0m (0.00 B)\n"
      ]
     },
     "metadata": {},
     "output_type": "display_data"
    }
   ],
   "source": [
    "# Compile the model\n",
    "model.compile(optimizer='adam', loss='categorical_crossentropy', metrics=['accuracy', Precision(), Recall()])\n",
    "\n",
    "# Print model summary\n",
    "model.summary()"
   ]
  },
  {
   "cell_type": "code",
   "execution_count": 6,
   "id": "83599036",
   "metadata": {
    "execution": {
     "iopub.execute_input": "2024-06-25T17:21:14.621284Z",
     "iopub.status.busy": "2024-06-25T17:21:14.620479Z",
     "iopub.status.idle": "2024-06-25T17:21:14.655199Z",
     "shell.execute_reply": "2024-06-25T17:21:14.654525Z"
    },
    "papermill": {
     "duration": 0.050311,
     "end_time": "2024-06-25T17:21:14.657147",
     "exception": false,
     "start_time": "2024-06-25T17:21:14.606836",
     "status": "completed"
    },
    "tags": []
   },
   "outputs": [
    {
     "name": "stdout",
     "output_type": "stream",
     "text": [
      "Found 872 images belonging to 3 classes.\n"
     ]
    }
   ],
   "source": [
    "# Data generators\n",
    "train_generator = data_gen.flow_from_directory(\n",
    "    '/kaggle/working/output/train',\n",
    "    target_size=(224, 224),\n",
    "    batch_size=32,\n",
    "    class_mode='categorical',\n",
    ")\n"
   ]
  },
  {
   "cell_type": "code",
   "execution_count": 7,
   "id": "b778ae26",
   "metadata": {
    "execution": {
     "iopub.execute_input": "2024-06-25T17:21:14.686587Z",
     "iopub.status.busy": "2024-06-25T17:21:14.686297Z",
     "iopub.status.idle": "2024-06-25T17:21:14.697455Z",
     "shell.execute_reply": "2024-06-25T17:21:14.696780Z"
    },
    "papermill": {
     "duration": 0.027533,
     "end_time": "2024-06-25T17:21:14.699404",
     "exception": false,
     "start_time": "2024-06-25T17:21:14.671871",
     "status": "completed"
    },
    "tags": []
   },
   "outputs": [
    {
     "name": "stdout",
     "output_type": "stream",
     "text": [
      "Found 108 images belonging to 3 classes.\n"
     ]
    }
   ],
   "source": [
    "validation_generator = data_gen.flow_from_directory(\n",
    "    '/kaggle/working/output/val',\n",
    "    target_size=(224, 224),\n",
    "    batch_size=32,\n",
    "    class_mode='categorical',\n",
    ")\n"
   ]
  },
  {
   "cell_type": "code",
   "execution_count": 8,
   "id": "2761ab5e",
   "metadata": {
    "execution": {
     "iopub.execute_input": "2024-06-25T17:21:14.726951Z",
     "iopub.status.busy": "2024-06-25T17:21:14.726420Z",
     "iopub.status.idle": "2024-06-25T17:38:30.324579Z",
     "shell.execute_reply": "2024-06-25T17:38:30.323791Z"
    },
    "papermill": {
     "duration": 1035.614131,
     "end_time": "2024-06-25T17:38:30.326636",
     "exception": false,
     "start_time": "2024-06-25T17:21:14.712505",
     "status": "completed"
    },
    "tags": []
   },
   "outputs": [
    {
     "name": "stdout",
     "output_type": "stream",
     "text": [
      "Epoch 1/60\n"
     ]
    },
    {
     "name": "stderr",
     "output_type": "stream",
     "text": [
      "/opt/conda/lib/python3.10/site-packages/keras/src/trainers/data_adapters/py_dataset_adapter.py:121: UserWarning: Your `PyDataset` class should call `super().__init__(**kwargs)` in its constructor. `**kwargs` can include `workers`, `use_multiprocessing`, `max_queue_size`. Do not pass these arguments to `fit()`, as they will be ignored.\n",
      "  self._warn_if_super_not_called()\n"
     ]
    },
    {
     "name": "stdout",
     "output_type": "stream",
     "text": [
      "\u001b[1m 2/28\u001b[0m \u001b[32m━\u001b[0m\u001b[37m━━━━━━━━━━━━━━━━━━━\u001b[0m \u001b[1m1s\u001b[0m 61ms/step - accuracy: 0.4922 - loss: 1.9994 - precision: 0.2812 - recall: 0.1406         "
     ]
    },
    {
     "name": "stderr",
     "output_type": "stream",
     "text": [
      "WARNING: All log messages before absl::InitializeLog() is called are written to STDERR\n",
      "I0000 00:00:1719336093.274878      79 device_compiler.h:186] Compiled cluster using XLA!  This line is logged at most once for the lifetime of the process.\n",
      "W0000 00:00:1719336093.294913      79 graph_launch.cc:671] Fallback to op-by-op mode because memset node breaks graph update\n"
     ]
    },
    {
     "name": "stdout",
     "output_type": "stream",
     "text": [
      "\u001b[1m27/28\u001b[0m \u001b[32m━━━━━━━━━━━━━━━━━━━\u001b[0m\u001b[37m━\u001b[0m \u001b[1m0s\u001b[0m 548ms/step - accuracy: 0.6288 - loss: 1.2798 - precision: 0.6565 - recall: 0.4836"
     ]
    },
    {
     "name": "stderr",
     "output_type": "stream",
     "text": [
      "W0000 00:00:1719336110.063662      78 graph_launch.cc:671] Fallback to op-by-op mode because memset node breaks graph update\n"
     ]
    },
    {
     "name": "stdout",
     "output_type": "stream",
     "text": [
      "\u001b[1m28/28\u001b[0m \u001b[32m━━━━━━━━━━━━━━━━━━━━\u001b[0m\u001b[37m\u001b[0m \u001b[1m36s\u001b[0m 714ms/step - accuracy: 0.6341 - loss: 1.2484 - precision: 0.6625 - recall: 0.4933 - val_accuracy: 0.7778 - val_loss: 0.4958 - val_precision: 0.7905 - val_recall: 0.7685\n",
      "Epoch 2/60\n",
      "\u001b[1m28/28\u001b[0m \u001b[32m━━━━━━━━━━━━━━━━━━━━\u001b[0m\u001b[37m\u001b[0m \u001b[1m17s\u001b[0m 469ms/step - accuracy: 0.7821 - loss: 0.5221 - precision: 0.8001 - recall: 0.7581 - val_accuracy: 0.8241 - val_loss: 0.4005 - val_precision: 0.8224 - val_recall: 0.8148\n",
      "Epoch 3/60\n",
      "\u001b[1m28/28\u001b[0m \u001b[32m━━━━━━━━━━━━━━━━━━━━\u001b[0m\u001b[37m\u001b[0m \u001b[1m17s\u001b[0m 463ms/step - accuracy: 0.8187 - loss: 0.4690 - precision: 0.8212 - recall: 0.8146 - val_accuracy: 0.8333 - val_loss: 0.3794 - val_precision: 0.8333 - val_recall: 0.8333\n",
      "Epoch 4/60\n",
      "\u001b[1m28/28\u001b[0m \u001b[32m━━━━━━━━━━━━━━━━━━━━\u001b[0m\u001b[37m\u001b[0m \u001b[1m17s\u001b[0m 460ms/step - accuracy: 0.8433 - loss: 0.3701 - precision: 0.8467 - recall: 0.8430 - val_accuracy: 0.8796 - val_loss: 0.3578 - val_precision: 0.9029 - val_recall: 0.8611\n",
      "Epoch 5/60\n",
      "\u001b[1m28/28\u001b[0m \u001b[32m━━━━━━━━━━━━━━━━━━━━\u001b[0m\u001b[37m\u001b[0m \u001b[1m17s\u001b[0m 465ms/step - accuracy: 0.8363 - loss: 0.4155 - precision: 0.8580 - recall: 0.8223 - val_accuracy: 0.8426 - val_loss: 0.3679 - val_precision: 0.8505 - val_recall: 0.8426\n",
      "Epoch 6/60\n",
      "\u001b[1m28/28\u001b[0m \u001b[32m━━━━━━━━━━━━━━━━━━━━\u001b[0m\u001b[37m\u001b[0m \u001b[1m17s\u001b[0m 464ms/step - accuracy: 0.8650 - loss: 0.3417 - precision: 0.8681 - recall: 0.8608 - val_accuracy: 0.8796 - val_loss: 0.3488 - val_precision: 0.8879 - val_recall: 0.8796\n",
      "Epoch 7/60\n",
      "\u001b[1m28/28\u001b[0m \u001b[32m━━━━━━━━━━━━━━━━━━━━\u001b[0m\u001b[37m\u001b[0m \u001b[1m17s\u001b[0m 478ms/step - accuracy: 0.8443 - loss: 0.3763 - precision: 0.8464 - recall: 0.8314 - val_accuracy: 0.9167 - val_loss: 0.3005 - val_precision: 0.9159 - val_recall: 0.9074\n",
      "Epoch 8/60\n",
      "\u001b[1m28/28\u001b[0m \u001b[32m━━━━━━━━━━━━━━━━━━━━\u001b[0m\u001b[37m\u001b[0m \u001b[1m17s\u001b[0m 459ms/step - accuracy: 0.8707 - loss: 0.3164 - precision: 0.8822 - recall: 0.8579 - val_accuracy: 0.8519 - val_loss: 0.2724 - val_precision: 0.8762 - val_recall: 0.8519\n",
      "Epoch 9/60\n",
      "\u001b[1m28/28\u001b[0m \u001b[32m━━━━━━━━━━━━━━━━━━━━\u001b[0m\u001b[37m\u001b[0m \u001b[1m17s\u001b[0m 474ms/step - accuracy: 0.8877 - loss: 0.3076 - precision: 0.8935 - recall: 0.8778 - val_accuracy: 0.8889 - val_loss: 0.3214 - val_precision: 0.8942 - val_recall: 0.8611\n",
      "Epoch 10/60\n",
      "\u001b[1m28/28\u001b[0m \u001b[32m━━━━━━━━━━━━━━━━━━━━\u001b[0m\u001b[37m\u001b[0m \u001b[1m17s\u001b[0m 459ms/step - accuracy: 0.9009 - loss: 0.2697 - precision: 0.9029 - recall: 0.8833 - val_accuracy: 0.9074 - val_loss: 0.2495 - val_precision: 0.9074 - val_recall: 0.9074\n",
      "Epoch 11/60\n",
      "\u001b[1m28/28\u001b[0m \u001b[32m━━━━━━━━━━━━━━━━━━━━\u001b[0m\u001b[37m\u001b[0m \u001b[1m17s\u001b[0m 480ms/step - accuracy: 0.8904 - loss: 0.3007 - precision: 0.8922 - recall: 0.8875 - val_accuracy: 0.8889 - val_loss: 0.2764 - val_precision: 0.8962 - val_recall: 0.8796\n",
      "Epoch 12/60\n",
      "\u001b[1m28/28\u001b[0m \u001b[32m━━━━━━━━━━━━━━━━━━━━\u001b[0m\u001b[37m\u001b[0m \u001b[1m17s\u001b[0m 459ms/step - accuracy: 0.8972 - loss: 0.2688 - precision: 0.9041 - recall: 0.8872 - val_accuracy: 0.8981 - val_loss: 0.4639 - val_precision: 0.8981 - val_recall: 0.8981\n",
      "Epoch 13/60\n",
      "\u001b[1m28/28\u001b[0m \u001b[32m━━━━━━━━━━━━━━━━━━━━\u001b[0m\u001b[37m\u001b[0m \u001b[1m17s\u001b[0m 472ms/step - accuracy: 0.8793 - loss: 0.3463 - precision: 0.8824 - recall: 0.8737 - val_accuracy: 0.8704 - val_loss: 0.3551 - val_precision: 0.8857 - val_recall: 0.8611\n",
      "Epoch 14/60\n",
      "\u001b[1m28/28\u001b[0m \u001b[32m━━━━━━━━━━━━━━━━━━━━\u001b[0m\u001b[37m\u001b[0m \u001b[1m17s\u001b[0m 461ms/step - accuracy: 0.9044 - loss: 0.2541 - precision: 0.9094 - recall: 0.8923 - val_accuracy: 0.9352 - val_loss: 0.2123 - val_precision: 0.9340 - val_recall: 0.9167\n",
      "Epoch 15/60\n",
      "\u001b[1m28/28\u001b[0m \u001b[32m━━━━━━━━━━━━━━━━━━━━\u001b[0m\u001b[37m\u001b[0m \u001b[1m17s\u001b[0m 484ms/step - accuracy: 0.9045 - loss: 0.2563 - precision: 0.9083 - recall: 0.9014 - val_accuracy: 0.9167 - val_loss: 0.2465 - val_precision: 0.9151 - val_recall: 0.8981\n",
      "Epoch 16/60\n",
      "\u001b[1m28/28\u001b[0m \u001b[32m━━━━━━━━━━━━━━━━━━━━\u001b[0m\u001b[37m\u001b[0m \u001b[1m17s\u001b[0m 476ms/step - accuracy: 0.9389 - loss: 0.2031 - precision: 0.9459 - recall: 0.9282 - val_accuracy: 0.9259 - val_loss: 0.2908 - val_precision: 0.9333 - val_recall: 0.9074\n",
      "Epoch 17/60\n",
      "\u001b[1m28/28\u001b[0m \u001b[32m━━━━━━━━━━━━━━━━━━━━\u001b[0m\u001b[37m\u001b[0m \u001b[1m17s\u001b[0m 464ms/step - accuracy: 0.8876 - loss: 0.2662 - precision: 0.8999 - recall: 0.8787 - val_accuracy: 0.9167 - val_loss: 0.2339 - val_precision: 0.9245 - val_recall: 0.9074\n",
      "Epoch 18/60\n",
      "\u001b[1m28/28\u001b[0m \u001b[32m━━━━━━━━━━━━━━━━━━━━\u001b[0m\u001b[37m\u001b[0m \u001b[1m17s\u001b[0m 463ms/step - accuracy: 0.9259 - loss: 0.2446 - precision: 0.9365 - recall: 0.9086 - val_accuracy: 0.8981 - val_loss: 0.2409 - val_precision: 0.9151 - val_recall: 0.8981\n",
      "Epoch 19/60\n",
      "\u001b[1m28/28\u001b[0m \u001b[32m━━━━━━━━━━━━━━━━━━━━\u001b[0m\u001b[37m\u001b[0m \u001b[1m17s\u001b[0m 469ms/step - accuracy: 0.9392 - loss: 0.1689 - precision: 0.9445 - recall: 0.9340 - val_accuracy: 0.8981 - val_loss: 0.3446 - val_precision: 0.9109 - val_recall: 0.8519\n",
      "Epoch 20/60\n",
      "\u001b[1m28/28\u001b[0m \u001b[32m━━━━━━━━━━━━━━━━━━━━\u001b[0m\u001b[37m\u001b[0m \u001b[1m17s\u001b[0m 468ms/step - accuracy: 0.9283 - loss: 0.2014 - precision: 0.9408 - recall: 0.9265 - val_accuracy: 0.9259 - val_loss: 0.2384 - val_precision: 0.9412 - val_recall: 0.8889\n",
      "Epoch 21/60\n",
      "\u001b[1m28/28\u001b[0m \u001b[32m━━━━━━━━━━━━━━━━━━━━\u001b[0m\u001b[37m\u001b[0m \u001b[1m17s\u001b[0m 463ms/step - accuracy: 0.9316 - loss: 0.1983 - precision: 0.9334 - recall: 0.9268 - val_accuracy: 0.8981 - val_loss: 0.2558 - val_precision: 0.9065 - val_recall: 0.8981\n",
      "Epoch 22/60\n",
      "\u001b[1m28/28\u001b[0m \u001b[32m━━━━━━━━━━━━━━━━━━━━\u001b[0m\u001b[37m\u001b[0m \u001b[1m17s\u001b[0m 486ms/step - accuracy: 0.9238 - loss: 0.2023 - precision: 0.9272 - recall: 0.9211 - val_accuracy: 0.9259 - val_loss: 0.1752 - val_precision: 0.9346 - val_recall: 0.9259\n",
      "Epoch 23/60\n",
      "\u001b[1m28/28\u001b[0m \u001b[32m━━━━━━━━━━━━━━━━━━━━\u001b[0m\u001b[37m\u001b[0m \u001b[1m17s\u001b[0m 463ms/step - accuracy: 0.9345 - loss: 0.1555 - precision: 0.9353 - recall: 0.9330 - val_accuracy: 0.9444 - val_loss: 0.1869 - val_precision: 0.9623 - val_recall: 0.9444\n",
      "Epoch 24/60\n",
      "\u001b[1m28/28\u001b[0m \u001b[32m━━━━━━━━━━━━━━━━━━━━\u001b[0m\u001b[37m\u001b[0m \u001b[1m17s\u001b[0m 482ms/step - accuracy: 0.9329 - loss: 0.2065 - precision: 0.9327 - recall: 0.9292 - val_accuracy: 0.9352 - val_loss: 0.2144 - val_precision: 0.9352 - val_recall: 0.9352\n",
      "Epoch 25/60\n",
      "\u001b[1m28/28\u001b[0m \u001b[32m━━━━━━━━━━━━━━━━━━━━\u001b[0m\u001b[37m\u001b[0m \u001b[1m17s\u001b[0m 462ms/step - accuracy: 0.9302 - loss: 0.1793 - precision: 0.9364 - recall: 0.9266 - val_accuracy: 0.9352 - val_loss: 0.2410 - val_precision: 0.9352 - val_recall: 0.9352\n",
      "Epoch 26/60\n",
      "\u001b[1m28/28\u001b[0m \u001b[32m━━━━━━━━━━━━━━━━━━━━\u001b[0m\u001b[37m\u001b[0m \u001b[1m17s\u001b[0m 481ms/step - accuracy: 0.9468 - loss: 0.1743 - precision: 0.9478 - recall: 0.9468 - val_accuracy: 0.9352 - val_loss: 0.2320 - val_precision: 0.9352 - val_recall: 0.9352\n",
      "Epoch 27/60\n",
      "\u001b[1m28/28\u001b[0m \u001b[32m━━━━━━━━━━━━━━━━━━━━\u001b[0m\u001b[37m\u001b[0m \u001b[1m17s\u001b[0m 464ms/step - accuracy: 0.9292 - loss: 0.2075 - precision: 0.9346 - recall: 0.9259 - val_accuracy: 0.9537 - val_loss: 0.1573 - val_precision: 0.9537 - val_recall: 0.9537\n",
      "Epoch 28/60\n",
      "\u001b[1m28/28\u001b[0m \u001b[32m━━━━━━━━━━━━━━━━━━━━\u001b[0m\u001b[37m\u001b[0m \u001b[1m17s\u001b[0m 463ms/step - accuracy: 0.9302 - loss: 0.1757 - precision: 0.9359 - recall: 0.9211 - val_accuracy: 0.9259 - val_loss: 0.1909 - val_precision: 0.9340 - val_recall: 0.9167\n",
      "Epoch 29/60\n",
      "\u001b[1m28/28\u001b[0m \u001b[32m━━━━━━━━━━━━━━━━━━━━\u001b[0m\u001b[37m\u001b[0m \u001b[1m17s\u001b[0m 463ms/step - accuracy: 0.9274 - loss: 0.1820 - precision: 0.9320 - recall: 0.9216 - val_accuracy: 0.9352 - val_loss: 0.1892 - val_precision: 0.9519 - val_recall: 0.9167\n",
      "Epoch 30/60\n",
      "\u001b[1m28/28\u001b[0m \u001b[32m━━━━━━━━━━━━━━━━━━━━\u001b[0m\u001b[37m\u001b[0m \u001b[1m17s\u001b[0m 453ms/step - accuracy: 0.9066 - loss: 0.2304 - precision: 0.9107 - recall: 0.8940 - val_accuracy: 0.9259 - val_loss: 0.2068 - val_precision: 0.9259 - val_recall: 0.9259\n",
      "Epoch 31/60\n",
      "\u001b[1m28/28\u001b[0m \u001b[32m━━━━━━━━━━━━━━━━━━━━\u001b[0m\u001b[37m\u001b[0m \u001b[1m17s\u001b[0m 486ms/step - accuracy: 0.9438 - loss: 0.1688 - precision: 0.9447 - recall: 0.9396 - val_accuracy: 0.9352 - val_loss: 0.1687 - val_precision: 0.9528 - val_recall: 0.9352\n",
      "Epoch 32/60\n",
      "\u001b[1m28/28\u001b[0m \u001b[32m━━━━━━━━━━━━━━━━━━━━\u001b[0m\u001b[37m\u001b[0m \u001b[1m17s\u001b[0m 477ms/step - accuracy: 0.9478 - loss: 0.1417 - precision: 0.9550 - recall: 0.9355 - val_accuracy: 0.9074 - val_loss: 0.2346 - val_precision: 0.9159 - val_recall: 0.9074\n",
      "Epoch 33/60\n",
      "\u001b[1m28/28\u001b[0m \u001b[32m━━━━━━━━━━━━━━━━━━━━\u001b[0m\u001b[37m\u001b[0m \u001b[1m17s\u001b[0m 478ms/step - accuracy: 0.9471 - loss: 0.1449 - precision: 0.9477 - recall: 0.9400 - val_accuracy: 0.9444 - val_loss: 0.1897 - val_precision: 0.9444 - val_recall: 0.9444\n",
      "Epoch 34/60\n",
      "\u001b[1m28/28\u001b[0m \u001b[32m━━━━━━━━━━━━━━━━━━━━\u001b[0m\u001b[37m\u001b[0m \u001b[1m17s\u001b[0m 468ms/step - accuracy: 0.9556 - loss: 0.1406 - precision: 0.9558 - recall: 0.9550 - val_accuracy: 0.9259 - val_loss: 0.1603 - val_precision: 0.9434 - val_recall: 0.9259\n",
      "Epoch 35/60\n",
      "\u001b[1m28/28\u001b[0m \u001b[32m━━━━━━━━━━━━━━━━━━━━\u001b[0m\u001b[37m\u001b[0m \u001b[1m17s\u001b[0m 463ms/step - accuracy: 0.9302 - loss: 0.1496 - precision: 0.9353 - recall: 0.9274 - val_accuracy: 0.9167 - val_loss: 0.2541 - val_precision: 0.9238 - val_recall: 0.8981\n",
      "Epoch 36/60\n",
      "\u001b[1m28/28\u001b[0m \u001b[32m━━━━━━━━━━━━━━━━━━━━\u001b[0m\u001b[37m\u001b[0m \u001b[1m17s\u001b[0m 480ms/step - accuracy: 0.9534 - loss: 0.1275 - precision: 0.9532 - recall: 0.9509 - val_accuracy: 0.9444 - val_loss: 0.1671 - val_precision: 0.9439 - val_recall: 0.9352\n",
      "Epoch 37/60\n",
      "\u001b[1m28/28\u001b[0m \u001b[32m━━━━━━━━━━━━━━━━━━━━\u001b[0m\u001b[37m\u001b[0m \u001b[1m17s\u001b[0m 466ms/step - accuracy: 0.9619 - loss: 0.1172 - precision: 0.9672 - recall: 0.9477 - val_accuracy: 0.9444 - val_loss: 0.1692 - val_precision: 0.9528 - val_recall: 0.9352\n",
      "Epoch 38/60\n",
      "\u001b[1m28/28\u001b[0m \u001b[32m━━━━━━━━━━━━━━━━━━━━\u001b[0m\u001b[37m\u001b[0m \u001b[1m17s\u001b[0m 469ms/step - accuracy: 0.9559 - loss: 0.1197 - precision: 0.9564 - recall: 0.9544 - val_accuracy: 0.9352 - val_loss: 0.2981 - val_precision: 0.9346 - val_recall: 0.9259\n",
      "Epoch 39/60\n",
      "\u001b[1m28/28\u001b[0m \u001b[32m━━━━━━━━━━━━━━━━━━━━\u001b[0m\u001b[37m\u001b[0m \u001b[1m17s\u001b[0m 474ms/step - accuracy: 0.9373 - loss: 0.1602 - precision: 0.9384 - recall: 0.9336 - val_accuracy: 0.9259 - val_loss: 0.2401 - val_precision: 0.9340 - val_recall: 0.9167\n",
      "Epoch 40/60\n",
      "\u001b[1m28/28\u001b[0m \u001b[32m━━━━━━━━━━━━━━━━━━━━\u001b[0m\u001b[37m\u001b[0m \u001b[1m17s\u001b[0m 472ms/step - accuracy: 0.9330 - loss: 0.1635 - precision: 0.9361 - recall: 0.9321 - val_accuracy: 0.9444 - val_loss: 0.1989 - val_precision: 0.9439 - val_recall: 0.9352\n",
      "Epoch 41/60\n",
      "\u001b[1m28/28\u001b[0m \u001b[32m━━━━━━━━━━━━━━━━━━━━\u001b[0m\u001b[37m\u001b[0m \u001b[1m17s\u001b[0m 464ms/step - accuracy: 0.9597 - loss: 0.1186 - precision: 0.9634 - recall: 0.9582 - val_accuracy: 0.9444 - val_loss: 0.1840 - val_precision: 0.9533 - val_recall: 0.9444\n",
      "Epoch 42/60\n",
      "\u001b[1m28/28\u001b[0m \u001b[32m━━━━━━━━━━━━━━━━━━━━\u001b[0m\u001b[37m\u001b[0m \u001b[1m17s\u001b[0m 479ms/step - accuracy: 0.9500 - loss: 0.1153 - precision: 0.9537 - recall: 0.9477 - val_accuracy: 0.9537 - val_loss: 0.1791 - val_precision: 0.9537 - val_recall: 0.9537\n",
      "Epoch 43/60\n",
      "\u001b[1m28/28\u001b[0m \u001b[32m━━━━━━━━━━━━━━━━━━━━\u001b[0m\u001b[37m\u001b[0m \u001b[1m17s\u001b[0m 463ms/step - accuracy: 0.9568 - loss: 0.1052 - precision: 0.9572 - recall: 0.9568 - val_accuracy: 0.9630 - val_loss: 0.1614 - val_precision: 0.9717 - val_recall: 0.9537\n",
      "Epoch 44/60\n",
      "\u001b[1m28/28\u001b[0m \u001b[32m━━━━━━━━━━━━━━━━━━━━\u001b[0m\u001b[37m\u001b[0m \u001b[1m17s\u001b[0m 458ms/step - accuracy: 0.9678 - loss: 0.0940 - precision: 0.9680 - recall: 0.9664 - val_accuracy: 0.8611 - val_loss: 0.3920 - val_precision: 0.8692 - val_recall: 0.8611\n",
      "Epoch 45/60\n",
      "\u001b[1m28/28\u001b[0m \u001b[32m━━━━━━━━━━━━━━━━━━━━\u001b[0m\u001b[37m\u001b[0m \u001b[1m17s\u001b[0m 463ms/step - accuracy: 0.9473 - loss: 0.1606 - precision: 0.9493 - recall: 0.9446 - val_accuracy: 0.9444 - val_loss: 0.1523 - val_precision: 0.9528 - val_recall: 0.9352\n",
      "Epoch 46/60\n",
      "\u001b[1m28/28\u001b[0m \u001b[32m━━━━━━━━━━━━━━━━━━━━\u001b[0m\u001b[37m\u001b[0m \u001b[1m17s\u001b[0m 465ms/step - accuracy: 0.9533 - loss: 0.1210 - precision: 0.9545 - recall: 0.9462 - val_accuracy: 0.9259 - val_loss: 0.1611 - val_precision: 0.9346 - val_recall: 0.9259\n",
      "Epoch 47/60\n",
      "\u001b[1m28/28\u001b[0m \u001b[32m━━━━━━━━━━━━━━━━━━━━\u001b[0m\u001b[37m\u001b[0m \u001b[1m17s\u001b[0m 465ms/step - accuracy: 0.9524 - loss: 0.1283 - precision: 0.9538 - recall: 0.9514 - val_accuracy: 0.9537 - val_loss: 0.2015 - val_precision: 0.9537 - val_recall: 0.9537\n",
      "Epoch 48/60\n",
      "\u001b[1m28/28\u001b[0m \u001b[32m━━━━━━━━━━━━━━━━━━━━\u001b[0m\u001b[37m\u001b[0m \u001b[1m17s\u001b[0m 463ms/step - accuracy: 0.9600 - loss: 0.0968 - precision: 0.9659 - recall: 0.9598 - val_accuracy: 0.9537 - val_loss: 0.1683 - val_precision: 0.9626 - val_recall: 0.9537\n",
      "Epoch 49/60\n",
      "\u001b[1m28/28\u001b[0m \u001b[32m━━━━━━━━━━━━━━━━━━━━\u001b[0m\u001b[37m\u001b[0m \u001b[1m17s\u001b[0m 485ms/step - accuracy: 0.9640 - loss: 0.0963 - precision: 0.9647 - recall: 0.9635 - val_accuracy: 0.9259 - val_loss: 0.2848 - val_precision: 0.9259 - val_recall: 0.9259\n",
      "Epoch 50/60\n",
      "\u001b[1m28/28\u001b[0m \u001b[32m━━━━━━━━━━━━━━━━━━━━\u001b[0m\u001b[37m\u001b[0m \u001b[1m17s\u001b[0m 469ms/step - accuracy: 0.9598 - loss: 0.1476 - precision: 0.9598 - recall: 0.9598 - val_accuracy: 0.9259 - val_loss: 0.1870 - val_precision: 0.9346 - val_recall: 0.9259\n",
      "Epoch 51/60\n",
      "\u001b[1m28/28\u001b[0m \u001b[32m━━━━━━━━━━━━━━━━━━━━\u001b[0m\u001b[37m\u001b[0m \u001b[1m17s\u001b[0m 480ms/step - accuracy: 0.9680 - loss: 0.0799 - precision: 0.9718 - recall: 0.9680 - val_accuracy: 0.9352 - val_loss: 0.2524 - val_precision: 0.9346 - val_recall: 0.9259\n",
      "Epoch 52/60\n",
      "\u001b[1m28/28\u001b[0m \u001b[32m━━━━━━━━━━━━━━━━━━━━\u001b[0m\u001b[37m\u001b[0m \u001b[1m17s\u001b[0m 480ms/step - accuracy: 0.9648 - loss: 0.1243 - precision: 0.9648 - recall: 0.9618 - val_accuracy: 0.9630 - val_loss: 0.1403 - val_precision: 0.9630 - val_recall: 0.9630\n",
      "Epoch 53/60\n",
      "\u001b[1m28/28\u001b[0m \u001b[32m━━━━━━━━━━━━━━━━━━━━\u001b[0m\u001b[37m\u001b[0m \u001b[1m17s\u001b[0m 460ms/step - accuracy: 0.9671 - loss: 0.1134 - precision: 0.9706 - recall: 0.9649 - val_accuracy: 0.9537 - val_loss: 0.1579 - val_precision: 0.9528 - val_recall: 0.9352\n",
      "Epoch 54/60\n",
      "\u001b[1m28/28\u001b[0m \u001b[32m━━━━━━━━━━━━━━━━━━━━\u001b[0m\u001b[37m\u001b[0m \u001b[1m17s\u001b[0m 480ms/step - accuracy: 0.9543 - loss: 0.1254 - precision: 0.9554 - recall: 0.9513 - val_accuracy: 0.9259 - val_loss: 0.1708 - val_precision: 0.9434 - val_recall: 0.9259\n",
      "Epoch 55/60\n",
      "\u001b[1m28/28\u001b[0m \u001b[32m━━━━━━━━━━━━━━━━━━━━\u001b[0m\u001b[37m\u001b[0m \u001b[1m17s\u001b[0m 487ms/step - accuracy: 0.9446 - loss: 0.1220 - precision: 0.9488 - recall: 0.9446 - val_accuracy: 0.9444 - val_loss: 0.2684 - val_precision: 0.9444 - val_recall: 0.9444\n",
      "Epoch 56/60\n",
      "\u001b[1m28/28\u001b[0m \u001b[32m━━━━━━━━━━━━━━━━━━━━\u001b[0m\u001b[37m\u001b[0m \u001b[1m17s\u001b[0m 480ms/step - accuracy: 0.9435 - loss: 0.1418 - precision: 0.9435 - recall: 0.9434 - val_accuracy: 0.8981 - val_loss: 0.3435 - val_precision: 0.9065 - val_recall: 0.8981\n",
      "Epoch 57/60\n",
      "\u001b[1m28/28\u001b[0m \u001b[32m━━━━━━━━━━━━━━━━━━━━\u001b[0m\u001b[37m\u001b[0m \u001b[1m17s\u001b[0m 466ms/step - accuracy: 0.9497 - loss: 0.1496 - precision: 0.9532 - recall: 0.9495 - val_accuracy: 0.9444 - val_loss: 0.1781 - val_precision: 0.9533 - val_recall: 0.9444\n",
      "Epoch 58/60\n",
      "\u001b[1m28/28\u001b[0m \u001b[32m━━━━━━━━━━━━━━━━━━━━\u001b[0m\u001b[37m\u001b[0m \u001b[1m17s\u001b[0m 463ms/step - accuracy: 0.9708 - loss: 0.0882 - precision: 0.9715 - recall: 0.9708 - val_accuracy: 0.9630 - val_loss: 0.1845 - val_precision: 0.9630 - val_recall: 0.9630\n",
      "Epoch 59/60\n",
      "\u001b[1m28/28\u001b[0m \u001b[32m━━━━━━━━━━━━━━━━━━━━\u001b[0m\u001b[37m\u001b[0m \u001b[1m17s\u001b[0m 467ms/step - accuracy: 0.9436 - loss: 0.1471 - precision: 0.9463 - recall: 0.9426 - val_accuracy: 0.9444 - val_loss: 0.1565 - val_precision: 0.9533 - val_recall: 0.9444\n",
      "Epoch 60/60\n",
      "\u001b[1m28/28\u001b[0m \u001b[32m━━━━━━━━━━━━━━━━━━━━\u001b[0m\u001b[37m\u001b[0m \u001b[1m17s\u001b[0m 465ms/step - accuracy: 0.9656 - loss: 0.1070 - precision: 0.9714 - recall: 0.9634 - val_accuracy: 0.9630 - val_loss: 0.1431 - val_precision: 0.9720 - val_recall: 0.9630\n"
     ]
    }
   ],
   "source": [
    "# Train the model\n",
    "history = model.fit(\n",
    "    train_generator,\n",
    "    epochs=60,\n",
    "    validation_data=validation_generator,\n",
    ")\n"
   ]
  },
  {
   "cell_type": "code",
   "execution_count": 9,
   "id": "00f0e0db",
   "metadata": {
    "execution": {
     "iopub.execute_input": "2024-06-25T17:38:30.616704Z",
     "iopub.status.busy": "2024-06-25T17:38:30.616004Z",
     "iopub.status.idle": "2024-06-25T17:38:31.020926Z",
     "shell.execute_reply": "2024-06-25T17:38:31.020035Z"
    },
    "papermill": {
     "duration": 0.551836,
     "end_time": "2024-06-25T17:38:31.023097",
     "exception": false,
     "start_time": "2024-06-25T17:38:30.471261",
     "status": "completed"
    },
    "tags": []
   },
   "outputs": [
    {
     "data": {
      "text/plain": [
       "<matplotlib.legend.Legend at 0x7888101b3f70>"
      ]
     },
     "execution_count": 9,
     "metadata": {},
     "output_type": "execute_result"
    },
    {
     "data": {
      "image/png": "[encoded data removed]",
      "text/plain": [
       "<Figure size 1200x400 with 1 Axes>"
      ]
     },
     "metadata": {},
     "output_type": "display_data"
    }
   ],
   "source": [
    "# Plot training history\n",
    "plt.figure(figsize=(12, 4))\n",
    "plt.subplot(1, 2, 1)\n",
    "plt.plot(history.history['accuracy'], label='Train Accuracy')\n",
    "plt.plot(history.history['val_accuracy'], label='Validation Accuracy')\n",
    "plt.title('Model Accuracy')\n",
    "plt.xlabel('Epoch')\n",
    "plt.ylabel('Accuracy')\n",
    "plt.legend()"
   ]
  },
  {
   "cell_type": "code",
   "execution_count": 10,
   "id": "85e978d1",
   "metadata": {
    "execution": {
     "iopub.execute_input": "2024-06-25T17:38:31.315349Z",
     "iopub.status.busy": "2024-06-25T17:38:31.314989Z",
     "iopub.status.idle": "2024-06-25T17:38:31.584768Z",
     "shell.execute_reply": "2024-06-25T17:38:31.583963Z"
    },
    "papermill": {
     "duration": 0.417582,
     "end_time": "2024-06-25T17:38:31.586698",
     "exception": false,
     "start_time": "2024-06-25T17:38:31.169116",
     "status": "completed"
    },
    "tags": []
   },
   "outputs": [
    {
     "data": {
      "image/png": "[encoded data removed]",
      "text/plain": [
       "<Figure size 640x480 with 1 Axes>"
      ]
     },
     "metadata": {},
     "output_type": "display_data"
    }
   ],
   "source": [
    "plt.subplot(1, 2, 2)\n",
    "plt.plot(history.history['loss'], label='Train Loss')\n",
    "plt.plot(history.history['val_loss'], label='Validation Loss')\n",
    "plt.title('Model Loss')\n",
    "plt.xlabel('Epoch')\n",
    "plt.ylabel('Loss')\n",
    "plt.legend()\n",
    "plt.show()\n"
   ]
  },
  {
   "cell_type": "code",
   "execution_count": 11,
   "id": "a9efdf82",
   "metadata": {
    "execution": {
     "iopub.execute_input": "2024-06-25T17:38:31.880621Z",
     "iopub.status.busy": "2024-06-25T17:38:31.880264Z",
     "iopub.status.idle": "2024-06-25T17:38:31.893322Z",
     "shell.execute_reply": "2024-06-25T17:38:31.892471Z"
    },
    "papermill": {
     "duration": 0.161624,
     "end_time": "2024-06-25T17:38:31.895252",
     "exception": false,
     "start_time": "2024-06-25T17:38:31.733628",
     "status": "completed"
    },
    "tags": []
   },
   "outputs": [
    {
     "name": "stdout",
     "output_type": "stream",
     "text": [
      "Found 111 images belonging to 3 classes.\n"
     ]
    }
   ],
   "source": [
    "# Evaluation on test set\n",
    "test_data_gen = ImageDataGenerator(rescale=1./255)\n",
    "test_generator = test_data_gen.flow_from_directory(\n",
    "    '/kaggle/working/output/test',\n",
    "    target_size=(224, 224),\n",
    "    batch_size=32,\n",
    "    class_mode='categorical',\n",
    "    shuffle=False\n",
    ")"
   ]
  },
  {
   "cell_type": "code",
   "execution_count": 12,
   "id": "553e527f",
   "metadata": {
    "execution": {
     "iopub.execute_input": "2024-06-25T17:38:32.188308Z",
     "iopub.status.busy": "2024-06-25T17:38:32.187990Z",
     "iopub.status.idle": "2024-06-25T17:38:35.654718Z",
     "shell.execute_reply": "2024-06-25T17:38:35.653767Z"
    },
    "papermill": {
     "duration": 3.615327,
     "end_time": "2024-06-25T17:38:35.656569",
     "exception": false,
     "start_time": "2024-06-25T17:38:32.041242",
     "status": "completed"
    },
    "tags": []
   },
   "outputs": [
    {
     "name": "stdout",
     "output_type": "stream",
     "text": [
      "\u001b[1m3/4\u001b[0m \u001b[32m━━━━━━━━━━━━━━━\u001b[0m\u001b[37m━━━━━\u001b[0m \u001b[1m0s\u001b[0m 94ms/step "
     ]
    },
    {
     "name": "stderr",
     "output_type": "stream",
     "text": [
      "W0000 00:00:1719337113.146701      77 graph_launch.cc:671] Fallback to op-by-op mode because memset node breaks graph update\n"
     ]
    },
    {
     "name": "stdout",
     "output_type": "stream",
     "text": [
      "\u001b[1m4/4\u001b[0m \u001b[32m━━━━━━━━━━━━━━━━━━━━\u001b[0m\u001b[37m\u001b[0m \u001b[1m3s\u001b[0m 733ms/step\n"
     ]
    },
    {
     "data": {
      "image/png": "[encoded data removed]",
      "text/plain": [
       "<Figure size 1000x800 with 2 Axes>"
      ]
     },
     "metadata": {},
     "output_type": "display_data"
    },
    {
     "name": "stdout",
     "output_type": "stream",
     "text": [
      "Classification Report\n",
      "                     precision    recall  f1-score   support\n",
      "\n",
      "Disease Free leaves       0.94      1.00      0.97        44\n",
      "          Leaf Rust       0.90      0.92      0.91        50\n",
      "          Leaf spot       0.92      0.71      0.80        17\n",
      "\n",
      "           accuracy                           0.92       111\n",
      "          macro avg       0.92      0.88      0.89       111\n",
      "       weighted avg       0.92      0.92      0.92       111\n",
      "\n",
      "Precision: 0.9188\n",
      "Recall: 0.9189\n",
      "F1 Score: 0.9162\n"
     ]
    }
   ],
   "source": [
    "# Predict the classes\n",
    "predictions = model.predict(test_generator, steps=test_generator.samples // test_generator.batch_size + 1)\n",
    "predicted_classes = np.argmax(predictions, axis=1)\n",
    "true_classes = test_generator.classes\n",
    "class_labels = list(test_generator.class_indices.keys())\n",
    "\n",
    "# Confusion Matrix\n",
    "conf_matrix = confusion_matrix(true_classes, predicted_classes)\n",
    "plt.figure(figsize=(10, 8))\n",
    "sns.heatmap(conf_matrix, annot=True, fmt='d', cmap='Blues', xticklabels=class_labels, yticklabels=class_labels)\n",
    "plt.xlabel('Predicted')\n",
    "plt.ylabel('True')\n",
    "plt.title('Confusion Matrix')\n",
    "plt.show()\n",
    "\n",
    "# Classification Report\n",
    "report = classification_report(true_classes, predicted_classes, target_names=class_labels)\n",
    "print('Classification Report')\n",
    "print(report)\n",
    "\n",
    "# Precision, Recall, F1 Score\n",
    "precision = precision_score(true_classes, predicted_classes, average='weighted')\n",
    "recall = recall_score(true_classes, predicted_classes, average='weighted')\n",
    "f1 = f1_score(true_classes, predicted_classes, average='weighted')\n",
    "\n",
    "print(f'Precision: {precision:.4f}')\n",
    "print(f'Recall: {recall:.4f}')\n",
    "print(f'F1 Score: {f1:.4f}')"
   ]
  },
  {
   "cell_type": "code",
   "execution_count": 13,
   "id": "66b6f772",
   "metadata": {
    "execution": {
     "iopub.execute_input": "2024-06-25T17:38:35.958669Z",
     "iopub.status.busy": "2024-06-25T17:38:35.958305Z",
     "iopub.status.idle": "2024-06-25T17:38:37.375057Z",
     "shell.execute_reply": "2024-06-25T17:38:37.374177Z"
    },
    "papermill": {
     "duration": 1.569968,
     "end_time": "2024-06-25T17:38:37.376950",
     "exception": false,
     "start_time": "2024-06-25T17:38:35.806982",
     "status": "completed"
    },
    "tags": []
   },
   "outputs": [
    {
     "name": "stdout",
     "output_type": "stream",
     "text": [
      "\u001b[1m4/4\u001b[0m \u001b[32m━━━━━━━━━━━━━━━━━━━━\u001b[0m\u001b[37m\u001b[0m \u001b[1m1s\u001b[0m 275ms/step - accuracy: 0.9457 - loss: 0.1264 - precision: 0.9457 - recall: 0.9457\n"
     ]
    },
    {
     "data": {
      "text/plain": [
       "[0.21243757009506226,\n",
       " 0.9189189076423645,\n",
       " 0.9189189076423645,\n",
       " 0.9189189076423645]"
      ]
     },
     "execution_count": 13,
     "metadata": {},
     "output_type": "execute_result"
    }
   ],
   "source": [
    "model.evaluate(test_generator)"
   ]
  },
  {
   "cell_type": "code",
   "execution_count": 14,
   "id": "4ccfc548",
   "metadata": {
    "execution": {
     "iopub.execute_input": "2024-06-25T17:38:37.672333Z",
     "iopub.status.busy": "2024-06-25T17:38:37.671995Z",
     "iopub.status.idle": "2024-06-25T17:38:37.978533Z",
     "shell.execute_reply": "2024-06-25T17:38:37.977745Z"
    },
    "papermill": {
     "duration": 0.456504,
     "end_time": "2024-06-25T17:38:37.980990",
     "exception": false,
     "start_time": "2024-06-25T17:38:37.524486",
     "status": "completed"
    },
    "tags": []
   },
   "outputs": [],
   "source": [
    "model.save(\"Custom_layer.h5\")"
   ]
  },
  {
   "cell_type": "code",
   "execution_count": 15,
   "id": "953db21d",
   "metadata": {
    "execution": {
     "iopub.execute_input": "2024-06-25T17:38:38.324482Z",
     "iopub.status.busy": "2024-06-25T17:38:38.323619Z",
     "iopub.status.idle": "2024-06-25T17:38:38.815242Z",
     "shell.execute_reply": "2024-06-25T17:38:38.814177Z"
    },
    "papermill": {
     "duration": 0.643331,
     "end_time": "2024-06-25T17:38:38.817584",
     "exception": false,
     "start_time": "2024-06-25T17:38:38.174253",
     "status": "completed"
    },
    "tags": []
   },
   "outputs": [],
   "source": [
    "model.save(\"Custom_layer.keras\")"
   ]
  }
 ],
 "metadata": {
  "kaggle": {
   "accelerator": "nvidiaTeslaT4",
   "dataSources": [
    {
     "datasetId": 5205184,
     "sourceId": 8682489,
     "sourceType": "datasetVersion"
    }
   ],
   "dockerImageVersionId": 30733,
   "isGpuEnabled": true,
   "isInternetEnabled": true,
   "language": "python",
   "sourceType": "notebook"
  },
  "kernelspec": {
   "display_name": "Python 3",
   "language": "python",
   "name": "python3"
  },
  "language_info": {
   "codemirror_mode": {
    "name": "ipython",
    "version": 3
   },
   "file_extension": ".py",
   "mimetype": "text/x-python",
   "name": "python",
   "nbconvert_exporter": "python",
   "pygments_lexer": "ipython3",
   "version": "3.10.13"
  },
  "papermill": {
   "default_parameters": {},
   "duration": 1101.339661,
   "end_time": "2024-06-25T17:38:42.628395",
   "environment_variables": {},
   "exception": null,
   "input_path": "__notebook__.ipynb",
   "output_path": "__notebook__.ipynb",
   "parameters": {},
   "start_time": "2024-06-25T17:20:21.288734",
   "version": "2.5.0"
  }
 },
 "nbformat": 4,
 "nbformat_minor": 5
}
